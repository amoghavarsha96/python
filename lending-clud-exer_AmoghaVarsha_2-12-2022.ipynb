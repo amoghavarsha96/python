{
 "cells": [
  {
   "cell_type": "code",
   "execution_count": 1,
   "id": "38da1184",
   "metadata": {},
   "outputs": [],
   "source": [
    "import pandas as pd\n",
    "import matplotlib.pyplot as plt\n",
    "from sklearn.tree import DecisionTreeClassifier\n",
    "from sklearn.model_selection import train_test_split\n",
    "from sklearn.metrics import accuracy_score, precision_score, f1_score, confusion_matrix\n",
    "from sklearn.metrics import classification_report\n",
    "from sklearn.ensemble import BaggingClassifier\n",
    "from sklearn.ensemble import RandomForestClassifier\n",
    "from sklearn.model_selection import cross_val_score\n",
    "from sklearn.preprocessing import StandardScaler"
   ]
  },
  {
   "cell_type": "code",
   "execution_count": 2,
   "id": "1413b47d",
   "metadata": {},
   "outputs": [],
   "source": [
    "loan_df = pd.read_csv(\"loan.csv\",low_memory=False)"
   ]
  },
  {
   "cell_type": "code",
   "execution_count": 3,
   "id": "1cf07297",
   "metadata": {},
   "outputs": [
    {
     "data": {
      "text/plain": [
       "(39717, 111)"
      ]
     },
     "execution_count": 3,
     "metadata": {},
     "output_type": "execute_result"
    }
   ],
   "source": [
    "loan_df.shape"
   ]
  },
  {
   "cell_type": "code",
   "execution_count": 4,
   "id": "c0f4c12c",
   "metadata": {},
   "outputs": [
    {
     "data": {
      "text/plain": [
       "id                                0\n",
       "member_id                         0\n",
       "loan_amnt                         0\n",
       "funded_amnt                       0\n",
       "funded_amnt_inv                   0\n",
       "                              ...  \n",
       "tax_liens                        39\n",
       "tot_hi_cred_lim               39717\n",
       "total_bal_ex_mort             39717\n",
       "total_bc_limit                39717\n",
       "total_il_high_credit_limit    39717\n",
       "Length: 111, dtype: int64"
      ]
     },
     "execution_count": 4,
     "metadata": {},
     "output_type": "execute_result"
    }
   ],
   "source": [
    "loan_df.isna().sum()"
   ]
  },
  {
   "cell_type": "code",
   "execution_count": 5,
   "id": "4630005d",
   "metadata": {},
   "outputs": [
    {
     "name": "stdout",
     "output_type": "stream",
     "text": [
      "<class 'pandas.core.frame.DataFrame'>\n",
      "RangeIndex: 39717 entries, 0 to 39716\n",
      "Columns: 111 entries, id to total_il_high_credit_limit\n",
      "dtypes: float64(74), int64(13), object(24)\n",
      "memory usage: 33.6+ MB\n"
     ]
    }
   ],
   "source": [
    "loan_df.info()"
   ]
  },
  {
   "cell_type": "code",
   "execution_count": 6,
   "id": "e0c95ec7",
   "metadata": {},
   "outputs": [],
   "source": [
    "loan = loan_df"
   ]
  },
  {
   "cell_type": "code",
   "execution_count": 7,
   "id": "d6e9668c",
   "metadata": {},
   "outputs": [
    {
     "data": {
      "text/plain": [
       "Index(['id', 'member_id', 'loan_amnt', 'funded_amnt', 'funded_amnt_inv',\n",
       "       'term', 'int_rate', 'installment', 'grade', 'sub_grade',\n",
       "       ...\n",
       "       'num_tl_90g_dpd_24m', 'num_tl_op_past_12m', 'pct_tl_nvr_dlq',\n",
       "       'percent_bc_gt_75', 'pub_rec_bankruptcies', 'tax_liens',\n",
       "       'tot_hi_cred_lim', 'total_bal_ex_mort', 'total_bc_limit',\n",
       "       'total_il_high_credit_limit'],\n",
       "      dtype='object', length=111)"
      ]
     },
     "execution_count": 7,
     "metadata": {},
     "output_type": "execute_result"
    }
   ],
   "source": [
    "loan.columns"
   ]
  },
  {
   "cell_type": "code",
   "execution_count": 8,
   "id": "fd35ed85",
   "metadata": {},
   "outputs": [],
   "source": [
    "missing_columns = loan.columns[loan.isna().sum()/len(loan.index) *100 > 90]"
   ]
  },
  {
   "cell_type": "code",
   "execution_count": 9,
   "id": "e1277dd8",
   "metadata": {},
   "outputs": [
    {
     "data": {
      "text/plain": [
       "56"
      ]
     },
     "execution_count": 9,
     "metadata": {},
     "output_type": "execute_result"
    }
   ],
   "source": [
    "len(missing_columns)"
   ]
  },
  {
   "cell_type": "code",
   "execution_count": 10,
   "id": "c907dfda",
   "metadata": {},
   "outputs": [],
   "source": [
    "loan = loan.drop(missing_columns, axis=1)"
   ]
  },
  {
   "cell_type": "code",
   "execution_count": 11,
   "id": "640fb884",
   "metadata": {},
   "outputs": [
    {
     "data": {
      "text/plain": [
       "(39717, 55)"
      ]
     },
     "execution_count": 11,
     "metadata": {},
     "output_type": "execute_result"
    }
   ],
   "source": [
    "loan.shape"
   ]
  },
  {
   "cell_type": "code",
   "execution_count": 12,
   "id": "960f2ce4",
   "metadata": {},
   "outputs": [
    {
     "data": {
      "text/plain": [
       "id                             0.000000\n",
       "member_id                      0.000000\n",
       "loan_amnt                      0.000000\n",
       "funded_amnt                    0.000000\n",
       "funded_amnt_inv                0.000000\n",
       "term                           0.000000\n",
       "int_rate                       0.000000\n",
       "installment                    0.000000\n",
       "grade                          0.000000\n",
       "sub_grade                      0.000000\n",
       "emp_title                      6.191303\n",
       "emp_length                     2.706650\n",
       "home_ownership                 0.000000\n",
       "annual_inc                     0.000000\n",
       "verification_status            0.000000\n",
       "issue_d                        0.000000\n",
       "loan_status                    0.000000\n",
       "pymnt_plan                     0.000000\n",
       "url                            0.000000\n",
       "desc                          32.580507\n",
       "purpose                        0.000000\n",
       "title                          0.027696\n",
       "zip_code                       0.000000\n",
       "addr_state                     0.000000\n",
       "dti                            0.000000\n",
       "delinq_2yrs                    0.000000\n",
       "earliest_cr_line               0.000000\n",
       "inq_last_6mths                 0.000000\n",
       "mths_since_last_delinq        64.662487\n",
       "open_acc                       0.000000\n",
       "pub_rec                        0.000000\n",
       "revol_bal                      0.000000\n",
       "revol_util                     0.125891\n",
       "total_acc                      0.000000\n",
       "initial_list_status            0.000000\n",
       "out_prncp                      0.000000\n",
       "out_prncp_inv                  0.000000\n",
       "total_pymnt                    0.000000\n",
       "total_pymnt_inv                0.000000\n",
       "total_rec_prncp                0.000000\n",
       "total_rec_int                  0.000000\n",
       "total_rec_late_fee             0.000000\n",
       "recoveries                     0.000000\n",
       "collection_recovery_fee        0.000000\n",
       "last_pymnt_d                   0.178765\n",
       "last_pymnt_amnt                0.000000\n",
       "last_credit_pull_d             0.005036\n",
       "collections_12_mths_ex_med     0.140998\n",
       "policy_code                    0.000000\n",
       "application_type               0.000000\n",
       "acc_now_delinq                 0.000000\n",
       "chargeoff_within_12_mths       0.140998\n",
       "delinq_amnt                    0.000000\n",
       "pub_rec_bankruptcies           1.754916\n",
       "tax_liens                      0.098195\n",
       "dtype: float64"
      ]
     },
     "execution_count": 12,
     "metadata": {},
     "output_type": "execute_result"
    }
   ],
   "source": [
    "loan.isna().sum()/len(loan.index)*100"
   ]
  },
  {
   "cell_type": "code",
   "execution_count": 13,
   "id": "0c5c8ed3",
   "metadata": {},
   "outputs": [
    {
     "data": {
      "text/html": [
       "<div>\n",
       "<style scoped>\n",
       "    .dataframe tbody tr th:only-of-type {\n",
       "        vertical-align: middle;\n",
       "    }\n",
       "\n",
       "    .dataframe tbody tr th {\n",
       "        vertical-align: top;\n",
       "    }\n",
       "\n",
       "    .dataframe thead th {\n",
       "        text-align: right;\n",
       "    }\n",
       "</style>\n",
       "<table border=\"1\" class=\"dataframe\">\n",
       "  <thead>\n",
       "    <tr style=\"text-align: right;\">\n",
       "      <th></th>\n",
       "      <th>desc</th>\n",
       "      <th>mths_since_last_delinq</th>\n",
       "    </tr>\n",
       "  </thead>\n",
       "  <tbody>\n",
       "    <tr>\n",
       "      <th>0</th>\n",
       "      <td>Borrower added on 12/22/11 &gt; I need to upgra...</td>\n",
       "      <td>NaN</td>\n",
       "    </tr>\n",
       "    <tr>\n",
       "      <th>1</th>\n",
       "      <td>Borrower added on 12/22/11 &gt; I plan to use t...</td>\n",
       "      <td>NaN</td>\n",
       "    </tr>\n",
       "    <tr>\n",
       "      <th>2</th>\n",
       "      <td>NaN</td>\n",
       "      <td>NaN</td>\n",
       "    </tr>\n",
       "    <tr>\n",
       "      <th>3</th>\n",
       "      <td>Borrower added on 12/21/11 &gt; to pay for prop...</td>\n",
       "      <td>35.0</td>\n",
       "    </tr>\n",
       "    <tr>\n",
       "      <th>4</th>\n",
       "      <td>Borrower added on 12/21/11 &gt; I plan on combi...</td>\n",
       "      <td>38.0</td>\n",
       "    </tr>\n",
       "    <tr>\n",
       "      <th>...</th>\n",
       "      <td>...</td>\n",
       "      <td>...</td>\n",
       "    </tr>\n",
       "    <tr>\n",
       "      <th>39712</th>\n",
       "      <td>Our current gutter system on our home is old a...</td>\n",
       "      <td>0.0</td>\n",
       "    </tr>\n",
       "    <tr>\n",
       "      <th>39713</th>\n",
       "      <td>The rate of interest and fees incurred by carr...</td>\n",
       "      <td>5.0</td>\n",
       "    </tr>\n",
       "    <tr>\n",
       "      <th>39714</th>\n",
       "      <td>NaN</td>\n",
       "      <td>0.0</td>\n",
       "    </tr>\n",
       "    <tr>\n",
       "      <th>39715</th>\n",
       "      <td>NaN</td>\n",
       "      <td>0.0</td>\n",
       "    </tr>\n",
       "    <tr>\n",
       "      <th>39716</th>\n",
       "      <td>I plan to consolidate over $7,000 of debt: a c...</td>\n",
       "      <td>11.0</td>\n",
       "    </tr>\n",
       "  </tbody>\n",
       "</table>\n",
       "<p>39717 rows × 2 columns</p>\n",
       "</div>"
      ],
      "text/plain": [
       "                                                    desc  \\\n",
       "0        Borrower added on 12/22/11 > I need to upgra...   \n",
       "1        Borrower added on 12/22/11 > I plan to use t...   \n",
       "2                                                    NaN   \n",
       "3        Borrower added on 12/21/11 > to pay for prop...   \n",
       "4        Borrower added on 12/21/11 > I plan on combi...   \n",
       "...                                                  ...   \n",
       "39712  Our current gutter system on our home is old a...   \n",
       "39713  The rate of interest and fees incurred by carr...   \n",
       "39714                                                NaN   \n",
       "39715                                                NaN   \n",
       "39716  I plan to consolidate over $7,000 of debt: a c...   \n",
       "\n",
       "       mths_since_last_delinq  \n",
       "0                         NaN  \n",
       "1                         NaN  \n",
       "2                         NaN  \n",
       "3                        35.0  \n",
       "4                        38.0  \n",
       "...                       ...  \n",
       "39712                     0.0  \n",
       "39713                     5.0  \n",
       "39714                     0.0  \n",
       "39715                     0.0  \n",
       "39716                    11.0  \n",
       "\n",
       "[39717 rows x 2 columns]"
      ]
     },
     "execution_count": 13,
     "metadata": {},
     "output_type": "execute_result"
    }
   ],
   "source": [
    "loan[['desc',\"mths_since_last_delinq\"]]"
   ]
  },
  {
   "cell_type": "code",
   "execution_count": 14,
   "id": "6c9facf3",
   "metadata": {},
   "outputs": [],
   "source": [
    "loan = loan.drop(['mths_since_last_delinq','desc'],axis=1)"
   ]
  },
  {
   "cell_type": "code",
   "execution_count": 15,
   "id": "9e27a0d9",
   "metadata": {},
   "outputs": [
    {
     "data": {
      "text/plain": [
       "id                            0.000000\n",
       "member_id                     0.000000\n",
       "loan_amnt                     0.000000\n",
       "funded_amnt                   0.000000\n",
       "funded_amnt_inv               0.000000\n",
       "term                          0.000000\n",
       "int_rate                      0.000000\n",
       "installment                   0.000000\n",
       "grade                         0.000000\n",
       "sub_grade                     0.000000\n",
       "emp_title                     6.191303\n",
       "emp_length                    2.706650\n",
       "home_ownership                0.000000\n",
       "annual_inc                    0.000000\n",
       "verification_status           0.000000\n",
       "issue_d                       0.000000\n",
       "loan_status                   0.000000\n",
       "pymnt_plan                    0.000000\n",
       "url                           0.000000\n",
       "purpose                       0.000000\n",
       "title                         0.027696\n",
       "zip_code                      0.000000\n",
       "addr_state                    0.000000\n",
       "dti                           0.000000\n",
       "delinq_2yrs                   0.000000\n",
       "earliest_cr_line              0.000000\n",
       "inq_last_6mths                0.000000\n",
       "open_acc                      0.000000\n",
       "pub_rec                       0.000000\n",
       "revol_bal                     0.000000\n",
       "revol_util                    0.125891\n",
       "total_acc                     0.000000\n",
       "initial_list_status           0.000000\n",
       "out_prncp                     0.000000\n",
       "out_prncp_inv                 0.000000\n",
       "total_pymnt                   0.000000\n",
       "total_pymnt_inv               0.000000\n",
       "total_rec_prncp               0.000000\n",
       "total_rec_int                 0.000000\n",
       "total_rec_late_fee            0.000000\n",
       "recoveries                    0.000000\n",
       "collection_recovery_fee       0.000000\n",
       "last_pymnt_d                  0.178765\n",
       "last_pymnt_amnt               0.000000\n",
       "last_credit_pull_d            0.005036\n",
       "collections_12_mths_ex_med    0.140998\n",
       "policy_code                   0.000000\n",
       "application_type              0.000000\n",
       "acc_now_delinq                0.000000\n",
       "chargeoff_within_12_mths      0.140998\n",
       "delinq_amnt                   0.000000\n",
       "pub_rec_bankruptcies          1.754916\n",
       "tax_liens                     0.098195\n",
       "dtype: float64"
      ]
     },
     "execution_count": 15,
     "metadata": {},
     "output_type": "execute_result"
    }
   ],
   "source": [
    "loan.isna().sum()/len(loan.index)*100"
   ]
  },
  {
   "cell_type": "code",
   "execution_count": 16,
   "id": "feacb865",
   "metadata": {},
   "outputs": [
    {
     "name": "stdout",
     "output_type": "stream",
     "text": [
      "<class 'pandas.core.frame.DataFrame'>\n",
      "RangeIndex: 39717 entries, 0 to 39716\n",
      "Data columns (total 53 columns):\n",
      " #   Column                      Non-Null Count  Dtype  \n",
      "---  ------                      --------------  -----  \n",
      " 0   id                          39717 non-null  int64  \n",
      " 1   member_id                   39717 non-null  int64  \n",
      " 2   loan_amnt                   39717 non-null  int64  \n",
      " 3   funded_amnt                 39717 non-null  int64  \n",
      " 4   funded_amnt_inv             39717 non-null  float64\n",
      " 5   term                        39717 non-null  object \n",
      " 6   int_rate                    39717 non-null  object \n",
      " 7   installment                 39717 non-null  float64\n",
      " 8   grade                       39717 non-null  object \n",
      " 9   sub_grade                   39717 non-null  object \n",
      " 10  emp_title                   37258 non-null  object \n",
      " 11  emp_length                  38642 non-null  object \n",
      " 12  home_ownership              39717 non-null  object \n",
      " 13  annual_inc                  39717 non-null  float64\n",
      " 14  verification_status         39717 non-null  object \n",
      " 15  issue_d                     39717 non-null  object \n",
      " 16  loan_status                 39717 non-null  object \n",
      " 17  pymnt_plan                  39717 non-null  object \n",
      " 18  url                         39717 non-null  object \n",
      " 19  purpose                     39717 non-null  object \n",
      " 20  title                       39706 non-null  object \n",
      " 21  zip_code                    39717 non-null  object \n",
      " 22  addr_state                  39717 non-null  object \n",
      " 23  dti                         39717 non-null  float64\n",
      " 24  delinq_2yrs                 39717 non-null  int64  \n",
      " 25  earliest_cr_line            39717 non-null  object \n",
      " 26  inq_last_6mths              39717 non-null  int64  \n",
      " 27  open_acc                    39717 non-null  int64  \n",
      " 28  pub_rec                     39717 non-null  int64  \n",
      " 29  revol_bal                   39717 non-null  int64  \n",
      " 30  revol_util                  39667 non-null  object \n",
      " 31  total_acc                   39717 non-null  int64  \n",
      " 32  initial_list_status         39717 non-null  object \n",
      " 33  out_prncp                   39717 non-null  float64\n",
      " 34  out_prncp_inv               39717 non-null  float64\n",
      " 35  total_pymnt                 39717 non-null  float64\n",
      " 36  total_pymnt_inv             39717 non-null  float64\n",
      " 37  total_rec_prncp             39717 non-null  float64\n",
      " 38  total_rec_int               39717 non-null  float64\n",
      " 39  total_rec_late_fee          39717 non-null  float64\n",
      " 40  recoveries                  39717 non-null  float64\n",
      " 41  collection_recovery_fee     39717 non-null  float64\n",
      " 42  last_pymnt_d                39646 non-null  object \n",
      " 43  last_pymnt_amnt             39717 non-null  float64\n",
      " 44  last_credit_pull_d          39715 non-null  object \n",
      " 45  collections_12_mths_ex_med  39661 non-null  float64\n",
      " 46  policy_code                 39717 non-null  int64  \n",
      " 47  application_type            39717 non-null  object \n",
      " 48  acc_now_delinq              39717 non-null  int64  \n",
      " 49  chargeoff_within_12_mths    39661 non-null  float64\n",
      " 50  delinq_amnt                 39717 non-null  int64  \n",
      " 51  pub_rec_bankruptcies        39020 non-null  float64\n",
      " 52  tax_liens                   39678 non-null  float64\n",
      "dtypes: float64(18), int64(13), object(22)\n",
      "memory usage: 16.1+ MB\n"
     ]
    }
   ],
   "source": [
    "loan.info()"
   ]
  },
  {
   "cell_type": "code",
   "execution_count": 17,
   "id": "1da1a786",
   "metadata": {},
   "outputs": [
    {
     "data": {
      "text/plain": [
       "0        10.65%\n",
       "1        15.27%\n",
       "2        15.96%\n",
       "3        13.49%\n",
       "4        12.69%\n",
       "          ...  \n",
       "39712     8.07%\n",
       "39713    10.28%\n",
       "39714     8.07%\n",
       "39715     7.43%\n",
       "39716    13.75%\n",
       "Name: int_rate, Length: 39717, dtype: object"
      ]
     },
     "execution_count": 17,
     "metadata": {},
     "output_type": "execute_result"
    }
   ],
   "source": [
    "loan['int_rate']"
   ]
  },
  {
   "cell_type": "code",
   "execution_count": 18,
   "id": "d8af00d1",
   "metadata": {},
   "outputs": [],
   "source": [
    "loan['int_rate'] = loan['int_rate'].str.replace(\"%\",\"\").astype(float)"
   ]
  },
  {
   "cell_type": "code",
   "execution_count": 19,
   "id": "29d21fc9",
   "metadata": {},
   "outputs": [
    {
     "data": {
      "text/plain": [
       "0        10+ years\n",
       "1         < 1 year\n",
       "2        10+ years\n",
       "3        10+ years\n",
       "4           1 year\n",
       "           ...    \n",
       "39712      4 years\n",
       "39713      3 years\n",
       "39714     < 1 year\n",
       "39715     < 1 year\n",
       "39716     < 1 year\n",
       "Name: emp_length, Length: 39717, dtype: object"
      ]
     },
     "execution_count": 19,
     "metadata": {},
     "output_type": "execute_result"
    }
   ],
   "source": [
    "loan['emp_length']"
   ]
  },
  {
   "cell_type": "code",
   "execution_count": 20,
   "id": "dfe9b8ec",
   "metadata": {},
   "outputs": [
    {
     "data": {
      "text/plain": [
       "1075"
      ]
     },
     "execution_count": 20,
     "metadata": {},
     "output_type": "execute_result"
    }
   ],
   "source": [
    "loan['emp_length'].isna().sum()"
   ]
  },
  {
   "cell_type": "code",
   "execution_count": 21,
   "id": "edd312de",
   "metadata": {},
   "outputs": [],
   "source": [
    "emp_len_ms_va = loan[loan['emp_length'].isnull()].index"
   ]
  },
  {
   "cell_type": "code",
   "execution_count": 22,
   "id": "1e28d5e4",
   "metadata": {},
   "outputs": [
    {
     "data": {
      "text/plain": [
       "(39717, 53)"
      ]
     },
     "execution_count": 22,
     "metadata": {},
     "output_type": "execute_result"
    }
   ],
   "source": [
    "loan.shape"
   ]
  },
  {
   "cell_type": "code",
   "execution_count": 23,
   "id": "a0d9aa1e",
   "metadata": {},
   "outputs": [
    {
     "data": {
      "text/plain": [
       "38642"
      ]
     },
     "execution_count": 23,
     "metadata": {},
     "output_type": "execute_result"
    }
   ],
   "source": [
    "39717-1075"
   ]
  },
  {
   "cell_type": "code",
   "execution_count": 24,
   "id": "f023c424",
   "metadata": {},
   "outputs": [],
   "source": [
    "loan = loan[~loan['emp_length'].isnull()]"
   ]
  },
  {
   "cell_type": "code",
   "execution_count": 25,
   "id": "c2a7a1bb",
   "metadata": {},
   "outputs": [],
   "source": [
    "import re"
   ]
  },
  {
   "cell_type": "code",
   "execution_count": 26,
   "id": "92857b74",
   "metadata": {},
   "outputs": [],
   "source": [
    "loan[\"emp_length\"] = loan['emp_length'].apply(lambda x: re.findall('\\d+', str(x))[0])"
   ]
  },
  {
   "cell_type": "code",
   "execution_count": 27,
   "id": "9fb1ecd5",
   "metadata": {},
   "outputs": [],
   "source": [
    "loan['emp_length'] = loan['emp_length'].astype(int)"
   ]
  },
  {
   "cell_type": "code",
   "execution_count": 28,
   "id": "cf70402d",
   "metadata": {},
   "outputs": [
    {
     "data": {
      "text/plain": [
       "Fully Paid     32145\n",
       "Charged Off     5399\n",
       "Current         1098\n",
       "Name: loan_status, dtype: int64"
      ]
     },
     "execution_count": 28,
     "metadata": {},
     "output_type": "execute_result"
    }
   ],
   "source": [
    "loan['loan_status'].value_counts()"
   ]
  },
  {
   "cell_type": "code",
   "execution_count": 29,
   "id": "c1de172b",
   "metadata": {},
   "outputs": [],
   "source": [
    "# i want to take \"fully paid\" and \"chared off\""
   ]
  },
  {
   "cell_type": "code",
   "execution_count": 30,
   "id": "a3f679b0",
   "metadata": {},
   "outputs": [],
   "source": [
    "loan = loan[loan['loan_status']!=\"Current\"]"
   ]
  },
  {
   "cell_type": "code",
   "execution_count": 31,
   "id": "d2b115d9",
   "metadata": {},
   "outputs": [
    {
     "data": {
      "text/plain": [
       "Fully Paid     32145\n",
       "Charged Off     5399\n",
       "Name: loan_status, dtype: int64"
      ]
     },
     "execution_count": 31,
     "metadata": {},
     "output_type": "execute_result"
    }
   ],
   "source": [
    "loan['loan_status'].value_counts()"
   ]
  },
  {
   "cell_type": "code",
   "execution_count": 32,
   "id": "ee4ca00c",
   "metadata": {},
   "outputs": [
    {
     "data": {
      "text/plain": [
       "0        Dec-11\n",
       "1        Dec-11\n",
       "2        Dec-11\n",
       "3        Dec-11\n",
       "5        Dec-11\n",
       "          ...  \n",
       "39712    Jul-07\n",
       "39713    Jul-07\n",
       "39714    Jul-07\n",
       "39715    Jul-07\n",
       "39716    Jun-07\n",
       "Name: issue_d, Length: 37544, dtype: object"
      ]
     },
     "execution_count": 32,
     "metadata": {},
     "output_type": "execute_result"
    }
   ],
   "source": [
    "loan['issue_d']"
   ]
  },
  {
   "cell_type": "code",
   "execution_count": 33,
   "id": "6bbaef6b",
   "metadata": {},
   "outputs": [],
   "source": [
    "from datetime import datetime"
   ]
  },
  {
   "cell_type": "code",
   "execution_count": 34,
   "id": "07a2cd62",
   "metadata": {},
   "outputs": [],
   "source": [
    "### feature engineering"
   ]
  },
  {
   "cell_type": "code",
   "execution_count": 35,
   "id": "1f376ffc",
   "metadata": {},
   "outputs": [],
   "source": [
    "loan['issue_d'] = loan['issue_d'].apply(lambda x: datetime.strptime(x, '%b-%y'))"
   ]
  },
  {
   "cell_type": "code",
   "execution_count": 36,
   "id": "44880e5e",
   "metadata": {},
   "outputs": [],
   "source": [
    "loan[\"isd_month\"] = loan['issue_d'].apply(lambda x:x.month)\n",
    "loan[\"isd_year\"] = loan['issue_d'].apply(lambda x:x.year)"
   ]
  },
  {
   "cell_type": "code",
   "execution_count": null,
   "id": "90f4bcf4",
   "metadata": {},
   "outputs": [],
   "source": []
  },
  {
   "cell_type": "code",
   "execution_count": 37,
   "id": "1c2cf9a9",
   "metadata": {},
   "outputs": [
    {
     "data": {
      "text/plain": [
       "0        83.70%\n",
       "1         9.40%\n",
       "2        98.50%\n",
       "3           21%\n",
       "5        28.30%\n",
       "          ...  \n",
       "39712    13.10%\n",
       "39713    26.90%\n",
       "39714    19.40%\n",
       "39715     0.70%\n",
       "39716    51.50%\n",
       "Name: revol_util, Length: 37544, dtype: object"
      ]
     },
     "execution_count": 37,
     "metadata": {},
     "output_type": "execute_result"
    }
   ],
   "source": [
    "loan['revol_util']"
   ]
  },
  {
   "cell_type": "code",
   "execution_count": 38,
   "id": "b8a032d8",
   "metadata": {},
   "outputs": [],
   "source": [
    "loan['revol_util'] = loan['revol_util'].str.replace(\"%\",\"\").astype(float)"
   ]
  },
  {
   "cell_type": "code",
   "execution_count": 39,
   "id": "c13d53ee",
   "metadata": {},
   "outputs": [
    {
     "data": {
      "text/plain": [
       "0        83.7\n",
       "1         9.4\n",
       "2        98.5\n",
       "3        21.0\n",
       "5        28.3\n",
       "         ... \n",
       "39712    13.1\n",
       "39713    26.9\n",
       "39714    19.4\n",
       "39715     0.7\n",
       "39716    51.5\n",
       "Name: revol_util, Length: 37544, dtype: float64"
      ]
     },
     "execution_count": 39,
     "metadata": {},
     "output_type": "execute_result"
    }
   ],
   "source": [
    "loan['revol_util']"
   ]
  },
  {
   "cell_type": "code",
   "execution_count": 40,
   "id": "0bffa978",
   "metadata": {},
   "outputs": [
    {
     "data": {
      "text/plain": [
       "array(['n'], dtype=object)"
      ]
     },
     "execution_count": 40,
     "metadata": {},
     "output_type": "execute_result"
    }
   ],
   "source": [
    "loan['pymnt_plan'].unique()      # not needed"
   ]
  },
  {
   "cell_type": "code",
   "execution_count": 41,
   "id": "f68474fd",
   "metadata": {},
   "outputs": [
    {
     "data": {
      "text/plain": [
       "0        Jan-85\n",
       "1        Apr-99\n",
       "2        Nov-01\n",
       "3        Feb-96\n",
       "5        Nov-04\n",
       "          ...  \n",
       "39712    Nov-90\n",
       "39713    Dec-86\n",
       "39714    Oct-98\n",
       "39715    Nov-88\n",
       "39716    Oct-03\n",
       "Name: earliest_cr_line, Length: 37544, dtype: object"
      ]
     },
     "execution_count": 41,
     "metadata": {},
     "output_type": "execute_result"
    }
   ],
   "source": [
    "loan['earliest_cr_line']     #### not needed "
   ]
  },
  {
   "cell_type": "code",
   "execution_count": 42,
   "id": "19e0e7ac",
   "metadata": {},
   "outputs": [
    {
     "data": {
      "text/plain": [
       "array(['f'], dtype=object)"
      ]
     },
     "execution_count": 42,
     "metadata": {},
     "output_type": "execute_result"
    }
   ],
   "source": [
    "loan['initial_list_status'].unique()    ### not needed"
   ]
  },
  {
   "cell_type": "code",
   "execution_count": 43,
   "id": "e052b1e7",
   "metadata": {},
   "outputs": [
    {
     "data": {
      "text/plain": [
       "array([0.])"
      ]
     },
     "execution_count": 43,
     "metadata": {},
     "output_type": "execute_result"
    }
   ],
   "source": [
    "loan['out_prncp_inv'].unique()        #### not needed"
   ]
  },
  {
   "cell_type": "code",
   "execution_count": 44,
   "id": "174f480b",
   "metadata": {},
   "outputs": [
    {
     "data": {
      "text/plain": [
       "0        Jan-15\n",
       "1        Apr-13\n",
       "2        Jun-14\n",
       "3        Jan-15\n",
       "5        Jan-15\n",
       "          ...  \n",
       "39712    Jul-10\n",
       "39713    Jul-10\n",
       "39714    Apr-08\n",
       "39715    Jan-08\n",
       "39716    Jun-10\n",
       "Name: last_pymnt_d, Length: 37544, dtype: object"
      ]
     },
     "execution_count": 44,
     "metadata": {},
     "output_type": "execute_result"
    }
   ],
   "source": [
    "loan['last_pymnt_d']     ### date time # year and # month"
   ]
  },
  {
   "cell_type": "code",
   "execution_count": 45,
   "id": "3c6a602d",
   "metadata": {},
   "outputs": [
    {
     "data": {
      "text/plain": [
       "array([ 0., nan])"
      ]
     },
     "execution_count": 45,
     "metadata": {},
     "output_type": "execute_result"
    }
   ],
   "source": [
    "loan['collections_12_mths_ex_med'].unique()     ### not needed"
   ]
  },
  {
   "cell_type": "code",
   "execution_count": 46,
   "id": "9bf7b312",
   "metadata": {},
   "outputs": [
    {
     "data": {
      "text/plain": [
       "array([1], dtype=int64)"
      ]
     },
     "execution_count": 46,
     "metadata": {},
     "output_type": "execute_result"
    }
   ],
   "source": [
    "loan['policy_code'].unique()    ### not needed"
   ]
  },
  {
   "cell_type": "code",
   "execution_count": 47,
   "id": "5b4b96c9",
   "metadata": {},
   "outputs": [
    {
     "data": {
      "text/plain": [
       "array(['INDIVIDUAL'], dtype=object)"
      ]
     },
     "execution_count": 47,
     "metadata": {},
     "output_type": "execute_result"
    }
   ],
   "source": [
    "loan['application_type'].unique()   ### not needed"
   ]
  },
  {
   "cell_type": "code",
   "execution_count": 48,
   "id": "6dcbd98e",
   "metadata": {},
   "outputs": [
    {
     "data": {
      "text/plain": [
       "array([0], dtype=int64)"
      ]
     },
     "execution_count": 48,
     "metadata": {},
     "output_type": "execute_result"
    }
   ],
   "source": [
    "loan['acc_now_delinq'].unique()    ### not needed"
   ]
  },
  {
   "cell_type": "code",
   "execution_count": 49,
   "id": "d83778f6",
   "metadata": {},
   "outputs": [
    {
     "data": {
      "text/plain": [
       "array([0], dtype=int64)"
      ]
     },
     "execution_count": 49,
     "metadata": {},
     "output_type": "execute_result"
    }
   ],
   "source": [
    "loan['delinq_amnt'].unique()     #### not needed"
   ]
  },
  {
   "cell_type": "code",
   "execution_count": 50,
   "id": "2148c5a0",
   "metadata": {},
   "outputs": [],
   "source": [
    "### just try ### write a function for identifying the unique value columns and extract them"
   ]
  },
  {
   "cell_type": "code",
   "execution_count": 51,
   "id": "e67da1b5",
   "metadata": {},
   "outputs": [
    {
     "data": {
      "text/plain": [
       "array([ 0.,  1.,  2., nan])"
      ]
     },
     "execution_count": 51,
     "metadata": {},
     "output_type": "execute_result"
    }
   ],
   "source": [
    "loan['pub_rec_bankruptcies'].unique()"
   ]
  },
  {
   "cell_type": "code",
   "execution_count": 52,
   "id": "9b5ac532",
   "metadata": {},
   "outputs": [
    {
     "data": {
      "text/plain": [
       "array([ 0., nan])"
      ]
     },
     "execution_count": 52,
     "metadata": {},
     "output_type": "execute_result"
    }
   ],
   "source": [
    "loan['tax_liens'].unique()     ### not needed"
   ]
  },
  {
   "cell_type": "code",
   "execution_count": null,
   "id": "441d798a",
   "metadata": {},
   "outputs": [],
   "source": []
  },
  {
   "cell_type": "code",
   "execution_count": 53,
   "id": "472be062",
   "metadata": {},
   "outputs": [],
   "source": [
    "req_cols = ['loan_amnt', 'funded_amnt', 'funded_amnt_inv',\n",
    "       'term', 'int_rate', 'installment', 'grade', 'sub_grade',\n",
    "       'emp_length', 'home_ownership', 'annual_inc', 'verification_status',\n",
    "        'purpose', 'dti', 'delinq_2yrs',\n",
    "       'inq_last_6mths', 'open_acc', 'pub_rec', 'revol_bal', 'revol_util',\n",
    "       'total_acc', 'total_pymnt', 'total_pymnt_inv', 'total_rec_prncp', 'total_rec_int',\n",
    "       'total_rec_late_fee', 'recoveries', 'collection_recovery_fee', 'last_pymnt_amnt',\n",
    "     'chargeoff_within_12_mths', 'pub_rec_bankruptcies', 'tax_liens', 'isd_month', 'isd_year',\n",
    "            'loan_status']"
   ]
  },
  {
   "cell_type": "code",
   "execution_count": 54,
   "id": "93477177",
   "metadata": {},
   "outputs": [],
   "source": [
    "loan[req_cols].to_csv(\"loan-processed.csv\",index=False)"
   ]
  },
  {
   "cell_type": "code",
   "execution_count": 55,
   "id": "16ff79e4",
   "metadata": {},
   "outputs": [],
   "source": [
    "new_data = pd.read_csv(\"loan-processed.csv\")"
   ]
  },
  {
   "cell_type": "code",
   "execution_count": 56,
   "id": "42081f49",
   "metadata": {},
   "outputs": [
    {
     "data": {
      "text/plain": [
       "loan_amnt                     0\n",
       "funded_amnt                   0\n",
       "funded_amnt_inv               0\n",
       "term                          0\n",
       "int_rate                      0\n",
       "installment                   0\n",
       "grade                         0\n",
       "sub_grade                     0\n",
       "emp_length                    0\n",
       "home_ownership                0\n",
       "annual_inc                    0\n",
       "verification_status           0\n",
       "purpose                       0\n",
       "dti                           0\n",
       "delinq_2yrs                   0\n",
       "inq_last_6mths                0\n",
       "open_acc                      0\n",
       "pub_rec                       0\n",
       "revol_bal                     0\n",
       "revol_util                   47\n",
       "total_acc                     0\n",
       "total_pymnt                   0\n",
       "total_pymnt_inv               0\n",
       "total_rec_prncp               0\n",
       "total_rec_int                 0\n",
       "total_rec_late_fee            0\n",
       "recoveries                    0\n",
       "collection_recovery_fee       0\n",
       "last_pymnt_amnt               0\n",
       "chargeoff_within_12_mths     56\n",
       "pub_rec_bankruptcies        697\n",
       "tax_liens                    39\n",
       "isd_month                     0\n",
       "isd_year                      0\n",
       "loan_status                   0\n",
       "dtype: int64"
      ]
     },
     "execution_count": 56,
     "metadata": {},
     "output_type": "execute_result"
    }
   ],
   "source": [
    "new_data.isna().sum()"
   ]
  },
  {
   "cell_type": "code",
   "execution_count": 57,
   "id": "9171268f",
   "metadata": {},
   "outputs": [
    {
     "data": {
      "image/png": "[encoded data removed]",
      "text/plain": [
       "<Figure size 640x480 with 1 Axes>"
      ]
     },
     "metadata": {},
     "output_type": "display_data"
    }
   ],
   "source": [
    "plt.hist(new_data['revol_util'])\n",
    "plt.show()"
   ]
  },
  {
   "cell_type": "code",
   "execution_count": 58,
   "id": "58a6c78d",
   "metadata": {},
   "outputs": [],
   "source": [
    "median_ru = new_data['revol_util'].median()\n",
    "new_data['revol_util'] = new_data['revol_util'].fillna(median_ru)"
   ]
  },
  {
   "cell_type": "code",
   "execution_count": 59,
   "id": "56ce758d",
   "metadata": {},
   "outputs": [
    {
     "data": {
      "text/plain": [
       "0"
      ]
     },
     "execution_count": 59,
     "metadata": {},
     "output_type": "execute_result"
    }
   ],
   "source": [
    "new_data['revol_util'].isna().sum()"
   ]
  },
  {
   "cell_type": "code",
   "execution_count": 60,
   "id": "461c0ce9",
   "metadata": {},
   "outputs": [],
   "source": [
    "new_data = new_data.drop(\"chargeoff_within_12_mths\",axis=1)"
   ]
  },
  {
   "cell_type": "code",
   "execution_count": 61,
   "id": "b9ded71d",
   "metadata": {},
   "outputs": [
    {
     "data": {
      "text/plain": [
       "loan_amnt                    0\n",
       "funded_amnt                  0\n",
       "funded_amnt_inv              0\n",
       "term                         0\n",
       "int_rate                     0\n",
       "installment                  0\n",
       "grade                        0\n",
       "sub_grade                    0\n",
       "emp_length                   0\n",
       "home_ownership               0\n",
       "annual_inc                   0\n",
       "verification_status          0\n",
       "purpose                      0\n",
       "dti                          0\n",
       "delinq_2yrs                  0\n",
       "inq_last_6mths               0\n",
       "open_acc                     0\n",
       "pub_rec                      0\n",
       "revol_bal                    0\n",
       "revol_util                   0\n",
       "total_acc                    0\n",
       "total_pymnt                  0\n",
       "total_pymnt_inv              0\n",
       "total_rec_prncp              0\n",
       "total_rec_int                0\n",
       "total_rec_late_fee           0\n",
       "recoveries                   0\n",
       "collection_recovery_fee      0\n",
       "last_pymnt_amnt              0\n",
       "pub_rec_bankruptcies       697\n",
       "tax_liens                   39\n",
       "isd_month                    0\n",
       "isd_year                     0\n",
       "loan_status                  0\n",
       "dtype: int64"
      ]
     },
     "execution_count": 61,
     "metadata": {},
     "output_type": "execute_result"
    }
   ],
   "source": [
    "new_data.isna().sum()"
   ]
  },
  {
   "cell_type": "code",
   "execution_count": 62,
   "id": "be999830",
   "metadata": {},
   "outputs": [
    {
     "data": {
      "text/plain": [
       "array([ 0.,  1.,  2., nan])"
      ]
     },
     "execution_count": 62,
     "metadata": {},
     "output_type": "execute_result"
    }
   ],
   "source": [
    "new_data['pub_rec_bankruptcies'].unique()"
   ]
  },
  {
   "cell_type": "code",
   "execution_count": 63,
   "id": "d4902df4",
   "metadata": {},
   "outputs": [
    {
     "data": {
      "text/plain": [
       "dtype('float64')"
      ]
     },
     "execution_count": 63,
     "metadata": {},
     "output_type": "execute_result"
    }
   ],
   "source": [
    "new_data['pub_rec_bankruptcies'].dtype"
   ]
  },
  {
   "cell_type": "code",
   "execution_count": 64,
   "id": "60e13cb2",
   "metadata": {},
   "outputs": [],
   "source": [
    "new_data['pub_rec_bankruptcies'] = new_data['pub_rec_bankruptcies'].fillna(0)"
   ]
  },
  {
   "cell_type": "code",
   "execution_count": 65,
   "id": "3ef160af",
   "metadata": {},
   "outputs": [
    {
     "data": {
      "text/plain": [
       "array([0., 1., 2.])"
      ]
     },
     "execution_count": 65,
     "metadata": {},
     "output_type": "execute_result"
    }
   ],
   "source": [
    "new_data['pub_rec_bankruptcies'].unique()"
   ]
  },
  {
   "cell_type": "code",
   "execution_count": 66,
   "id": "8e7db26b",
   "metadata": {},
   "outputs": [
    {
     "data": {
      "text/plain": [
       "dtype('float64')"
      ]
     },
     "execution_count": 66,
     "metadata": {},
     "output_type": "execute_result"
    }
   ],
   "source": [
    "new_data['pub_rec_bankruptcies'].dtype"
   ]
  },
  {
   "cell_type": "code",
   "execution_count": 67,
   "id": "bafbdba6",
   "metadata": {},
   "outputs": [
    {
     "data": {
      "text/plain": [
       "loan_amnt                   0\n",
       "funded_amnt                 0\n",
       "funded_amnt_inv             0\n",
       "term                        0\n",
       "int_rate                    0\n",
       "installment                 0\n",
       "grade                       0\n",
       "sub_grade                   0\n",
       "emp_length                  0\n",
       "home_ownership              0\n",
       "annual_inc                  0\n",
       "verification_status         0\n",
       "purpose                     0\n",
       "dti                         0\n",
       "delinq_2yrs                 0\n",
       "inq_last_6mths              0\n",
       "open_acc                    0\n",
       "pub_rec                     0\n",
       "revol_bal                   0\n",
       "revol_util                  0\n",
       "total_acc                   0\n",
       "total_pymnt                 0\n",
       "total_pymnt_inv             0\n",
       "total_rec_prncp             0\n",
       "total_rec_int               0\n",
       "total_rec_late_fee          0\n",
       "recoveries                  0\n",
       "collection_recovery_fee     0\n",
       "last_pymnt_amnt             0\n",
       "pub_rec_bankruptcies        0\n",
       "tax_liens                  39\n",
       "isd_month                   0\n",
       "isd_year                    0\n",
       "loan_status                 0\n",
       "dtype: int64"
      ]
     },
     "execution_count": 67,
     "metadata": {},
     "output_type": "execute_result"
    }
   ],
   "source": [
    "new_data.isna().sum()"
   ]
  },
  {
   "cell_type": "code",
   "execution_count": 68,
   "id": "017af04e",
   "metadata": {},
   "outputs": [
    {
     "data": {
      "text/plain": [
       "array([ 0., nan])"
      ]
     },
     "execution_count": 68,
     "metadata": {},
     "output_type": "execute_result"
    }
   ],
   "source": [
    "new_data['tax_liens'].unique()"
   ]
  },
  {
   "cell_type": "code",
   "execution_count": 69,
   "id": "752a63e8",
   "metadata": {},
   "outputs": [],
   "source": [
    "new_data = new_data.drop(\"tax_liens\",axis=1)"
   ]
  },
  {
   "cell_type": "code",
   "execution_count": 70,
   "id": "20789228",
   "metadata": {},
   "outputs": [
    {
     "data": {
      "text/plain": [
       "loan_amnt                  0\n",
       "funded_amnt                0\n",
       "funded_amnt_inv            0\n",
       "term                       0\n",
       "int_rate                   0\n",
       "installment                0\n",
       "grade                      0\n",
       "sub_grade                  0\n",
       "emp_length                 0\n",
       "home_ownership             0\n",
       "annual_inc                 0\n",
       "verification_status        0\n",
       "purpose                    0\n",
       "dti                        0\n",
       "delinq_2yrs                0\n",
       "inq_last_6mths             0\n",
       "open_acc                   0\n",
       "pub_rec                    0\n",
       "revol_bal                  0\n",
       "revol_util                 0\n",
       "total_acc                  0\n",
       "total_pymnt                0\n",
       "total_pymnt_inv            0\n",
       "total_rec_prncp            0\n",
       "total_rec_int              0\n",
       "total_rec_late_fee         0\n",
       "recoveries                 0\n",
       "collection_recovery_fee    0\n",
       "last_pymnt_amnt            0\n",
       "pub_rec_bankruptcies       0\n",
       "isd_month                  0\n",
       "isd_year                   0\n",
       "loan_status                0\n",
       "dtype: int64"
      ]
     },
     "execution_count": 70,
     "metadata": {},
     "output_type": "execute_result"
    }
   ],
   "source": [
    "new_data.isna().sum()"
   ]
  },
  {
   "cell_type": "code",
   "execution_count": 71,
   "id": "b43500fe",
   "metadata": {},
   "outputs": [
    {
     "name": "stdout",
     "output_type": "stream",
     "text": [
      "<class 'pandas.core.frame.DataFrame'>\n",
      "RangeIndex: 37544 entries, 0 to 37543\n",
      "Data columns (total 33 columns):\n",
      " #   Column                   Non-Null Count  Dtype  \n",
      "---  ------                   --------------  -----  \n",
      " 0   loan_amnt                37544 non-null  int64  \n",
      " 1   funded_amnt              37544 non-null  int64  \n",
      " 2   funded_amnt_inv          37544 non-null  float64\n",
      " 3   term                     37544 non-null  object \n",
      " 4   int_rate                 37544 non-null  float64\n",
      " 5   installment              37544 non-null  float64\n",
      " 6   grade                    37544 non-null  object \n",
      " 7   sub_grade                37544 non-null  object \n",
      " 8   emp_length               37544 non-null  int64  \n",
      " 9   home_ownership           37544 non-null  object \n",
      " 10  annual_inc               37544 non-null  float64\n",
      " 11  verification_status      37544 non-null  object \n",
      " 12  purpose                  37544 non-null  object \n",
      " 13  dti                      37544 non-null  float64\n",
      " 14  delinq_2yrs              37544 non-null  int64  \n",
      " 15  inq_last_6mths           37544 non-null  int64  \n",
      " 16  open_acc                 37544 non-null  int64  \n",
      " 17  pub_rec                  37544 non-null  int64  \n",
      " 18  revol_bal                37544 non-null  int64  \n",
      " 19  revol_util               37544 non-null  float64\n",
      " 20  total_acc                37544 non-null  int64  \n",
      " 21  total_pymnt              37544 non-null  float64\n",
      " 22  total_pymnt_inv          37544 non-null  float64\n",
      " 23  total_rec_prncp          37544 non-null  float64\n",
      " 24  total_rec_int            37544 non-null  float64\n",
      " 25  total_rec_late_fee       37544 non-null  float64\n",
      " 26  recoveries               37544 non-null  float64\n",
      " 27  collection_recovery_fee  37544 non-null  float64\n",
      " 28  last_pymnt_amnt          37544 non-null  float64\n",
      " 29  pub_rec_bankruptcies     37544 non-null  float64\n",
      " 30  isd_month                37544 non-null  int64  \n",
      " 31  isd_year                 37544 non-null  int64  \n",
      " 32  loan_status              37544 non-null  object \n",
      "dtypes: float64(15), int64(11), object(7)\n",
      "memory usage: 9.5+ MB\n"
     ]
    }
   ],
   "source": [
    "new_data.info()"
   ]
  },
  {
   "cell_type": "code",
   "execution_count": 72,
   "id": "56a4f6e9",
   "metadata": {},
   "outputs": [
    {
     "data": {
      "text/plain": [
       "array([' 36 months', ' 60 months'], dtype=object)"
      ]
     },
     "execution_count": 72,
     "metadata": {},
     "output_type": "execute_result"
    }
   ],
   "source": [
    "new_data['term'].unique()"
   ]
  },
  {
   "cell_type": "code",
   "execution_count": 73,
   "id": "b3470821",
   "metadata": {},
   "outputs": [],
   "source": [
    "new_data[\"term\"] = new_data['term'].map({' 36 months':36,' 60 months':60})"
   ]
  },
  {
   "cell_type": "code",
   "execution_count": 74,
   "id": "aeab0f8a",
   "metadata": {},
   "outputs": [
    {
     "name": "stdout",
     "output_type": "stream",
     "text": [
      "<class 'pandas.core.frame.DataFrame'>\n",
      "RangeIndex: 37544 entries, 0 to 37543\n",
      "Data columns (total 33 columns):\n",
      " #   Column                   Non-Null Count  Dtype  \n",
      "---  ------                   --------------  -----  \n",
      " 0   loan_amnt                37544 non-null  int64  \n",
      " 1   funded_amnt              37544 non-null  int64  \n",
      " 2   funded_amnt_inv          37544 non-null  float64\n",
      " 3   term                     37544 non-null  int64  \n",
      " 4   int_rate                 37544 non-null  float64\n",
      " 5   installment              37544 non-null  float64\n",
      " 6   grade                    37544 non-null  object \n",
      " 7   sub_grade                37544 non-null  object \n",
      " 8   emp_length               37544 non-null  int64  \n",
      " 9   home_ownership           37544 non-null  object \n",
      " 10  annual_inc               37544 non-null  float64\n",
      " 11  verification_status      37544 non-null  object \n",
      " 12  purpose                  37544 non-null  object \n",
      " 13  dti                      37544 non-null  float64\n",
      " 14  delinq_2yrs              37544 non-null  int64  \n",
      " 15  inq_last_6mths           37544 non-null  int64  \n",
      " 16  open_acc                 37544 non-null  int64  \n",
      " 17  pub_rec                  37544 non-null  int64  \n",
      " 18  revol_bal                37544 non-null  int64  \n",
      " 19  revol_util               37544 non-null  float64\n",
      " 20  total_acc                37544 non-null  int64  \n",
      " 21  total_pymnt              37544 non-null  float64\n",
      " 22  total_pymnt_inv          37544 non-null  float64\n",
      " 23  total_rec_prncp          37544 non-null  float64\n",
      " 24  total_rec_int            37544 non-null  float64\n",
      " 25  total_rec_late_fee       37544 non-null  float64\n",
      " 26  recoveries               37544 non-null  float64\n",
      " 27  collection_recovery_fee  37544 non-null  float64\n",
      " 28  last_pymnt_amnt          37544 non-null  float64\n",
      " 29  pub_rec_bankruptcies     37544 non-null  float64\n",
      " 30  isd_month                37544 non-null  int64  \n",
      " 31  isd_year                 37544 non-null  int64  \n",
      " 32  loan_status              37544 non-null  object \n",
      "dtypes: float64(15), int64(12), object(6)\n",
      "memory usage: 9.5+ MB\n"
     ]
    }
   ],
   "source": [
    "new_data.info()"
   ]
  },
  {
   "cell_type": "code",
   "execution_count": 75,
   "id": "b527d122",
   "metadata": {},
   "outputs": [
    {
     "data": {
      "text/plain": [
       "array(['B', 'C', 'A', 'E', 'F', 'D', 'G'], dtype=object)"
      ]
     },
     "execution_count": 75,
     "metadata": {},
     "output_type": "execute_result"
    }
   ],
   "source": [
    "new_data['grade'].unique()"
   ]
  },
  {
   "cell_type": "code",
   "execution_count": 76,
   "id": "2b90b6b2",
   "metadata": {},
   "outputs": [],
   "source": [
    "from sklearn.preprocessing import LabelEncoder\n",
    "le = LabelEncoder()\n",
    "new_data[\"grade\"] = le.fit_transform(new_data['grade'])"
   ]
  },
  {
   "cell_type": "code",
   "execution_count": 77,
   "id": "43cf7a49",
   "metadata": {},
   "outputs": [
    {
     "data": {
      "text/plain": [
       "array(['B2', 'C4', 'C5', 'C1', 'A4', 'E1', 'F2', 'B5', 'C3', 'B1', 'D1',\n",
       "       'A1', 'B3', 'B4', 'C2', 'D2', 'A3', 'A5', 'D5', 'A2', 'E4', 'D3',\n",
       "       'D4', 'F3', 'E3', 'F1', 'E5', 'G4', 'E2', 'G2', 'G1', 'F5', 'F4',\n",
       "       'G5', 'G3'], dtype=object)"
      ]
     },
     "execution_count": 77,
     "metadata": {},
     "output_type": "execute_result"
    }
   ],
   "source": [
    "new_data['sub_grade'].unique()"
   ]
  },
  {
   "cell_type": "code",
   "execution_count": 78,
   "id": "5d854da8",
   "metadata": {},
   "outputs": [
    {
     "data": {
      "text/plain": [
       "array(['RENT', 'OWN', 'MORTGAGE', 'OTHER', 'NONE'], dtype=object)"
      ]
     },
     "execution_count": 78,
     "metadata": {},
     "output_type": "execute_result"
    }
   ],
   "source": [
    "new_data['home_ownership'].unique()"
   ]
  },
  {
   "cell_type": "code",
   "execution_count": 79,
   "id": "ebe9578a",
   "metadata": {},
   "outputs": [
    {
     "data": {
      "text/plain": [
       "array(['Verified', 'Source Verified', 'Not Verified'], dtype=object)"
      ]
     },
     "execution_count": 79,
     "metadata": {},
     "output_type": "execute_result"
    }
   ],
   "source": [
    "new_data['verification_status'].unique()"
   ]
  },
  {
   "cell_type": "code",
   "execution_count": 80,
   "id": "b1d7025e",
   "metadata": {},
   "outputs": [
    {
     "data": {
      "text/plain": [
       "array(['credit_card', 'car', 'small_business', 'other', 'wedding',\n",
       "       'debt_consolidation', 'home_improvement', 'major_purchase',\n",
       "       'medical', 'moving', 'vacation', 'house', 'renewable_energy',\n",
       "       'educational'], dtype=object)"
      ]
     },
     "execution_count": 80,
     "metadata": {},
     "output_type": "execute_result"
    }
   ],
   "source": [
    "new_data['purpose'].unique()"
   ]
  },
  {
   "cell_type": "code",
   "execution_count": 81,
   "id": "6e5815ac",
   "metadata": {},
   "outputs": [
    {
     "data": {
      "text/plain": [
       "Index(['loan_amnt', 'funded_amnt', 'funded_amnt_inv', 'term', 'int_rate',\n",
       "       'installment', 'grade', 'sub_grade', 'emp_length', 'home_ownership',\n",
       "       'annual_inc', 'verification_status', 'purpose', 'dti', 'delinq_2yrs',\n",
       "       'inq_last_6mths', 'open_acc', 'pub_rec', 'revol_bal', 'revol_util',\n",
       "       'total_acc', 'total_pymnt', 'total_pymnt_inv', 'total_rec_prncp',\n",
       "       'total_rec_int', 'total_rec_late_fee', 'recoveries',\n",
       "       'collection_recovery_fee', 'last_pymnt_amnt', 'pub_rec_bankruptcies',\n",
       "       'isd_month', 'isd_year', 'loan_status'],\n",
       "      dtype='object')"
      ]
     },
     "execution_count": 81,
     "metadata": {},
     "output_type": "execute_result"
    }
   ],
   "source": [
    "new_data.columns"
   ]
  },
  {
   "cell_type": "code",
   "execution_count": 82,
   "id": "6d0c0a54",
   "metadata": {},
   "outputs": [
    {
     "data": {
      "text/plain": [
       "(37544, 33)"
      ]
     },
     "execution_count": 82,
     "metadata": {},
     "output_type": "execute_result"
    }
   ],
   "source": [
    "new_data.shape"
   ]
  },
  {
   "cell_type": "code",
   "execution_count": 83,
   "id": "20b23454",
   "metadata": {},
   "outputs": [],
   "source": [
    "x = new_data.drop(\"loan_status\",axis=1)\n",
    "y = new_data['loan_status']"
   ]
  },
  {
   "cell_type": "code",
   "execution_count": 84,
   "id": "9a5031f1",
   "metadata": {},
   "outputs": [
    {
     "data": {
      "text/plain": [
       "0        1\n",
       "1        2\n",
       "2        2\n",
       "3        2\n",
       "4        0\n",
       "        ..\n",
       "37539    0\n",
       "37540    2\n",
       "37541    0\n",
       "37542    0\n",
       "37543    4\n",
       "Name: grade, Length: 37544, dtype: int32"
      ]
     },
     "execution_count": 84,
     "metadata": {},
     "output_type": "execute_result"
    }
   ],
   "source": [
    "x['grade']"
   ]
  },
  {
   "cell_type": "code",
   "execution_count": 85,
   "id": "80d48ff6",
   "metadata": {},
   "outputs": [],
   "source": [
    "x = pd.get_dummies(x)"
   ]
  },
  {
   "cell_type": "code",
   "execution_count": 86,
   "id": "9d1c08ac",
   "metadata": {},
   "outputs": [],
   "source": [
    "\n",
    "x_train, x_test, y_train , y_test = train_test_split(x,y,\n",
    "                                                    test_size=0.2,random_state=134)"
   ]
  },
  {
   "cell_type": "markdown",
   "id": "b614b58a",
   "metadata": {},
   "source": [
    "### decision trees, bagging classifier, random forest"
   ]
  },
  {
   "cell_type": "code",
   "execution_count": 87,
   "id": "39678397",
   "metadata": {},
   "outputs": [],
   "source": [
    "dt = DecisionTreeClassifier()\n",
    "dt.fit(x_train, y_train)\n",
    "y_pred = dt.predict(x_test)"
   ]
  },
  {
   "cell_type": "code",
   "execution_count": 88,
   "id": "03635451",
   "metadata": {},
   "outputs": [
    {
     "data": {
      "text/plain": [
       "array([[1093,   30],\n",
       "       [  28, 6358]], dtype=int64)"
      ]
     },
     "execution_count": 88,
     "metadata": {},
     "output_type": "execute_result"
    }
   ],
   "source": [
    "confusion_matrix(y_test, y_pred)"
   ]
  },
  {
   "cell_type": "code",
   "execution_count": 89,
   "id": "803ed720",
   "metadata": {},
   "outputs": [
    {
     "data": {
      "text/plain": [
       "0.9922759355440138"
      ]
     },
     "execution_count": 89,
     "metadata": {},
     "output_type": "execute_result"
    }
   ],
   "source": [
    "accuracy_score(y_test, y_pred)"
   ]
  },
  {
   "cell_type": "code",
   "execution_count": 90,
   "id": "bce1e34e",
   "metadata": {},
   "outputs": [],
   "source": [
    "# f1_score(y_test, y_pred)"
   ]
  },
  {
   "cell_type": "code",
   "execution_count": 91,
   "id": "e6b933fc",
   "metadata": {},
   "outputs": [],
   "source": [
    "base = DecisionTreeClassifier()\n",
    "bg = BaggingClassifier(base_estimator=base , n_estimators=50)\n",
    "bg.fit(x_train, y_train)\n",
    "y_pred = bg.predict(x_test)"
   ]
  },
  {
   "cell_type": "code",
   "execution_count": 92,
   "id": "48971776",
   "metadata": {},
   "outputs": [
    {
     "data": {
      "text/plain": [
       "0.9954721001464909"
      ]
     },
     "execution_count": 92,
     "metadata": {},
     "output_type": "execute_result"
    }
   ],
   "source": [
    "accuracy_score(y_test, y_pred)"
   ]
  },
  {
   "cell_type": "code",
   "execution_count": 93,
   "id": "d32afd3f",
   "metadata": {},
   "outputs": [
    {
     "data": {
      "text/plain": [
       "array([[1089,   34],\n",
       "       [   0, 6386]], dtype=int64)"
      ]
     },
     "execution_count": 93,
     "metadata": {},
     "output_type": "execute_result"
    }
   ],
   "source": [
    "confusion_matrix(y_test, y_pred)"
   ]
  },
  {
   "cell_type": "code",
   "execution_count": 94,
   "id": "e41a1f82",
   "metadata": {},
   "outputs": [],
   "source": [
    "# f1_score(y_test, y_pred)"
   ]
  },
  {
   "cell_type": "code",
   "execution_count": 95,
   "id": "a08ed269",
   "metadata": {},
   "outputs": [],
   "source": [
    "rf = RandomForestClassifier(max_depth = 16, n_estimators=150)\n",
    "rf.fit(x_train, y_train)\n",
    "y_pred = rf.predict(x_test)"
   ]
  },
  {
   "cell_type": "code",
   "execution_count": 96,
   "id": "d876630a",
   "metadata": {},
   "outputs": [
    {
     "data": {
      "text/plain": [
       "array([[1075,   48],\n",
       "       [   0, 6386]], dtype=int64)"
      ]
     },
     "execution_count": 96,
     "metadata": {},
     "output_type": "execute_result"
    }
   ],
   "source": [
    "confusion_matrix(y_test, y_pred)"
   ]
  },
  {
   "cell_type": "markdown",
   "id": "dc63c89c",
   "metadata": {},
   "source": [
    "### k fold cross validation technique"
   ]
  },
  {
   "cell_type": "markdown",
   "id": "eb32bf8f",
   "metadata": {},
   "source": [
    "Check the cross validated score on decision trees, bagging classifier, random forest."
   ]
  },
  {
   "cell_type": "code",
   "execution_count": 97,
   "id": "adad92e7",
   "metadata": {},
   "outputs": [],
   "source": [
    "#cross validated score random forest\n",
    "cv_results=cross_val_score(rf,x,y,cv=5,scoring=\"accuracy\")"
   ]
  },
  {
   "cell_type": "code",
   "execution_count": 98,
   "id": "d3d85a46",
   "metadata": {},
   "outputs": [
    {
     "data": {
      "text/plain": [
       "0.9934741673515134"
      ]
     },
     "execution_count": 98,
     "metadata": {},
     "output_type": "execute_result"
    }
   ],
   "source": [
    "cv_results.mean()"
   ]
  },
  {
   "cell_type": "code",
   "execution_count": 99,
   "id": "6370a78c",
   "metadata": {},
   "outputs": [],
   "source": [
    "#cross validated score on decision trees\n",
    "cv_results=cross_val_score(dt,x,y,cv=5,scoring=\"accuracy\")"
   ]
  },
  {
   "cell_type": "code",
   "execution_count": 100,
   "id": "946dd9d8",
   "metadata": {},
   "outputs": [
    {
     "data": {
      "text/plain": [
       "0.988093446095905"
      ]
     },
     "execution_count": 100,
     "metadata": {},
     "output_type": "execute_result"
    }
   ],
   "source": [
    "cv_results.mean()"
   ]
  },
  {
   "cell_type": "code",
   "execution_count": 101,
   "id": "6e0ea95a",
   "metadata": {},
   "outputs": [],
   "source": [
    "# cross validated score on bagging classifier\n",
    "cv_results=cross_val_score(bg,x,y,cv=5,scoring=\"accuracy\")"
   ]
  },
  {
   "cell_type": "code",
   "execution_count": 102,
   "id": "53ea0c0f",
   "metadata": {},
   "outputs": [
    {
     "data": {
      "text/plain": [
       "0.9953120223056076"
      ]
     },
     "execution_count": 102,
     "metadata": {},
     "output_type": "execute_result"
    }
   ],
   "source": [
    "cv_results.mean()"
   ]
  },
  {
   "cell_type": "code",
   "execution_count": 103,
   "id": "c635fb75",
   "metadata": {},
   "outputs": [
    {
     "data": {
      "text/html": [
       "<div>\n",
       "<style scoped>\n",
       "    .dataframe tbody tr th:only-of-type {\n",
       "        vertical-align: middle;\n",
       "    }\n",
       "\n",
       "    .dataframe tbody tr th {\n",
       "        vertical-align: top;\n",
       "    }\n",
       "\n",
       "    .dataframe thead th {\n",
       "        text-align: right;\n",
       "    }\n",
       "</style>\n",
       "<table border=\"1\" class=\"dataframe\">\n",
       "  <thead>\n",
       "    <tr style=\"text-align: right;\">\n",
       "      <th></th>\n",
       "      <th>loan_amnt</th>\n",
       "      <th>funded_amnt</th>\n",
       "      <th>funded_amnt_inv</th>\n",
       "      <th>term</th>\n",
       "      <th>int_rate</th>\n",
       "      <th>installment</th>\n",
       "      <th>grade</th>\n",
       "      <th>emp_length</th>\n",
       "      <th>annual_inc</th>\n",
       "      <th>dti</th>\n",
       "      <th>...</th>\n",
       "      <th>purpose_home_improvement</th>\n",
       "      <th>purpose_house</th>\n",
       "      <th>purpose_major_purchase</th>\n",
       "      <th>purpose_medical</th>\n",
       "      <th>purpose_moving</th>\n",
       "      <th>purpose_other</th>\n",
       "      <th>purpose_renewable_energy</th>\n",
       "      <th>purpose_small_business</th>\n",
       "      <th>purpose_vacation</th>\n",
       "      <th>purpose_wedding</th>\n",
       "    </tr>\n",
       "  </thead>\n",
       "  <tbody>\n",
       "    <tr>\n",
       "      <th>0</th>\n",
       "      <td>5000</td>\n",
       "      <td>5000</td>\n",
       "      <td>4975.0</td>\n",
       "      <td>36</td>\n",
       "      <td>10.65</td>\n",
       "      <td>162.87</td>\n",
       "      <td>1</td>\n",
       "      <td>10</td>\n",
       "      <td>24000.0</td>\n",
       "      <td>27.65</td>\n",
       "      <td>...</td>\n",
       "      <td>0</td>\n",
       "      <td>0</td>\n",
       "      <td>0</td>\n",
       "      <td>0</td>\n",
       "      <td>0</td>\n",
       "      <td>0</td>\n",
       "      <td>0</td>\n",
       "      <td>0</td>\n",
       "      <td>0</td>\n",
       "      <td>0</td>\n",
       "    </tr>\n",
       "    <tr>\n",
       "      <th>1</th>\n",
       "      <td>2500</td>\n",
       "      <td>2500</td>\n",
       "      <td>2500.0</td>\n",
       "      <td>60</td>\n",
       "      <td>15.27</td>\n",
       "      <td>59.83</td>\n",
       "      <td>2</td>\n",
       "      <td>1</td>\n",
       "      <td>30000.0</td>\n",
       "      <td>1.00</td>\n",
       "      <td>...</td>\n",
       "      <td>0</td>\n",
       "      <td>0</td>\n",
       "      <td>0</td>\n",
       "      <td>0</td>\n",
       "      <td>0</td>\n",
       "      <td>0</td>\n",
       "      <td>0</td>\n",
       "      <td>0</td>\n",
       "      <td>0</td>\n",
       "      <td>0</td>\n",
       "    </tr>\n",
       "    <tr>\n",
       "      <th>2</th>\n",
       "      <td>2400</td>\n",
       "      <td>2400</td>\n",
       "      <td>2400.0</td>\n",
       "      <td>36</td>\n",
       "      <td>15.96</td>\n",
       "      <td>84.33</td>\n",
       "      <td>2</td>\n",
       "      <td>10</td>\n",
       "      <td>12252.0</td>\n",
       "      <td>8.72</td>\n",
       "      <td>...</td>\n",
       "      <td>0</td>\n",
       "      <td>0</td>\n",
       "      <td>0</td>\n",
       "      <td>0</td>\n",
       "      <td>0</td>\n",
       "      <td>0</td>\n",
       "      <td>0</td>\n",
       "      <td>1</td>\n",
       "      <td>0</td>\n",
       "      <td>0</td>\n",
       "    </tr>\n",
       "    <tr>\n",
       "      <th>3</th>\n",
       "      <td>10000</td>\n",
       "      <td>10000</td>\n",
       "      <td>10000.0</td>\n",
       "      <td>36</td>\n",
       "      <td>13.49</td>\n",
       "      <td>339.31</td>\n",
       "      <td>2</td>\n",
       "      <td>10</td>\n",
       "      <td>49200.0</td>\n",
       "      <td>20.00</td>\n",
       "      <td>...</td>\n",
       "      <td>0</td>\n",
       "      <td>0</td>\n",
       "      <td>0</td>\n",
       "      <td>0</td>\n",
       "      <td>0</td>\n",
       "      <td>1</td>\n",
       "      <td>0</td>\n",
       "      <td>0</td>\n",
       "      <td>0</td>\n",
       "      <td>0</td>\n",
       "    </tr>\n",
       "    <tr>\n",
       "      <th>4</th>\n",
       "      <td>5000</td>\n",
       "      <td>5000</td>\n",
       "      <td>5000.0</td>\n",
       "      <td>36</td>\n",
       "      <td>7.90</td>\n",
       "      <td>156.46</td>\n",
       "      <td>0</td>\n",
       "      <td>3</td>\n",
       "      <td>36000.0</td>\n",
       "      <td>11.20</td>\n",
       "      <td>...</td>\n",
       "      <td>0</td>\n",
       "      <td>0</td>\n",
       "      <td>0</td>\n",
       "      <td>0</td>\n",
       "      <td>0</td>\n",
       "      <td>0</td>\n",
       "      <td>0</td>\n",
       "      <td>0</td>\n",
       "      <td>0</td>\n",
       "      <td>1</td>\n",
       "    </tr>\n",
       "    <tr>\n",
       "      <th>...</th>\n",
       "      <td>...</td>\n",
       "      <td>...</td>\n",
       "      <td>...</td>\n",
       "      <td>...</td>\n",
       "      <td>...</td>\n",
       "      <td>...</td>\n",
       "      <td>...</td>\n",
       "      <td>...</td>\n",
       "      <td>...</td>\n",
       "      <td>...</td>\n",
       "      <td>...</td>\n",
       "      <td>...</td>\n",
       "      <td>...</td>\n",
       "      <td>...</td>\n",
       "      <td>...</td>\n",
       "      <td>...</td>\n",
       "      <td>...</td>\n",
       "      <td>...</td>\n",
       "      <td>...</td>\n",
       "      <td>...</td>\n",
       "      <td>...</td>\n",
       "    </tr>\n",
       "    <tr>\n",
       "      <th>37539</th>\n",
       "      <td>2500</td>\n",
       "      <td>2500</td>\n",
       "      <td>1075.0</td>\n",
       "      <td>36</td>\n",
       "      <td>8.07</td>\n",
       "      <td>78.42</td>\n",
       "      <td>0</td>\n",
       "      <td>4</td>\n",
       "      <td>110000.0</td>\n",
       "      <td>11.33</td>\n",
       "      <td>...</td>\n",
       "      <td>1</td>\n",
       "      <td>0</td>\n",
       "      <td>0</td>\n",
       "      <td>0</td>\n",
       "      <td>0</td>\n",
       "      <td>0</td>\n",
       "      <td>0</td>\n",
       "      <td>0</td>\n",
       "      <td>0</td>\n",
       "      <td>0</td>\n",
       "    </tr>\n",
       "    <tr>\n",
       "      <th>37540</th>\n",
       "      <td>8500</td>\n",
       "      <td>8500</td>\n",
       "      <td>875.0</td>\n",
       "      <td>36</td>\n",
       "      <td>10.28</td>\n",
       "      <td>275.38</td>\n",
       "      <td>2</td>\n",
       "      <td>3</td>\n",
       "      <td>18000.0</td>\n",
       "      <td>6.40</td>\n",
       "      <td>...</td>\n",
       "      <td>0</td>\n",
       "      <td>0</td>\n",
       "      <td>0</td>\n",
       "      <td>0</td>\n",
       "      <td>0</td>\n",
       "      <td>0</td>\n",
       "      <td>0</td>\n",
       "      <td>0</td>\n",
       "      <td>0</td>\n",
       "      <td>0</td>\n",
       "    </tr>\n",
       "    <tr>\n",
       "      <th>37541</th>\n",
       "      <td>5000</td>\n",
       "      <td>5000</td>\n",
       "      <td>1325.0</td>\n",
       "      <td>36</td>\n",
       "      <td>8.07</td>\n",
       "      <td>156.84</td>\n",
       "      <td>0</td>\n",
       "      <td>1</td>\n",
       "      <td>100000.0</td>\n",
       "      <td>2.30</td>\n",
       "      <td>...</td>\n",
       "      <td>0</td>\n",
       "      <td>0</td>\n",
       "      <td>0</td>\n",
       "      <td>0</td>\n",
       "      <td>0</td>\n",
       "      <td>0</td>\n",
       "      <td>0</td>\n",
       "      <td>0</td>\n",
       "      <td>0</td>\n",
       "      <td>0</td>\n",
       "    </tr>\n",
       "    <tr>\n",
       "      <th>37542</th>\n",
       "      <td>5000</td>\n",
       "      <td>5000</td>\n",
       "      <td>650.0</td>\n",
       "      <td>36</td>\n",
       "      <td>7.43</td>\n",
       "      <td>155.38</td>\n",
       "      <td>0</td>\n",
       "      <td>1</td>\n",
       "      <td>200000.0</td>\n",
       "      <td>3.72</td>\n",
       "      <td>...</td>\n",
       "      <td>0</td>\n",
       "      <td>0</td>\n",
       "      <td>0</td>\n",
       "      <td>0</td>\n",
       "      <td>0</td>\n",
       "      <td>1</td>\n",
       "      <td>0</td>\n",
       "      <td>0</td>\n",
       "      <td>0</td>\n",
       "      <td>0</td>\n",
       "    </tr>\n",
       "    <tr>\n",
       "      <th>37543</th>\n",
       "      <td>7500</td>\n",
       "      <td>7500</td>\n",
       "      <td>800.0</td>\n",
       "      <td>36</td>\n",
       "      <td>13.75</td>\n",
       "      <td>255.43</td>\n",
       "      <td>4</td>\n",
       "      <td>1</td>\n",
       "      <td>22000.0</td>\n",
       "      <td>14.29</td>\n",
       "      <td>...</td>\n",
       "      <td>0</td>\n",
       "      <td>0</td>\n",
       "      <td>0</td>\n",
       "      <td>0</td>\n",
       "      <td>0</td>\n",
       "      <td>0</td>\n",
       "      <td>0</td>\n",
       "      <td>0</td>\n",
       "      <td>0</td>\n",
       "      <td>0</td>\n",
       "    </tr>\n",
       "  </tbody>\n",
       "</table>\n",
       "<p>37544 rows × 85 columns</p>\n",
       "</div>"
      ],
      "text/plain": [
       "       loan_amnt  funded_amnt  funded_amnt_inv  term  int_rate  installment  \\\n",
       "0           5000         5000           4975.0    36     10.65       162.87   \n",
       "1           2500         2500           2500.0    60     15.27        59.83   \n",
       "2           2400         2400           2400.0    36     15.96        84.33   \n",
       "3          10000        10000          10000.0    36     13.49       339.31   \n",
       "4           5000         5000           5000.0    36      7.90       156.46   \n",
       "...          ...          ...              ...   ...       ...          ...   \n",
       "37539       2500         2500           1075.0    36      8.07        78.42   \n",
       "37540       8500         8500            875.0    36     10.28       275.38   \n",
       "37541       5000         5000           1325.0    36      8.07       156.84   \n",
       "37542       5000         5000            650.0    36      7.43       155.38   \n",
       "37543       7500         7500            800.0    36     13.75       255.43   \n",
       "\n",
       "       grade  emp_length  annual_inc    dti  ...  purpose_home_improvement  \\\n",
       "0          1          10     24000.0  27.65  ...                         0   \n",
       "1          2           1     30000.0   1.00  ...                         0   \n",
       "2          2          10     12252.0   8.72  ...                         0   \n",
       "3          2          10     49200.0  20.00  ...                         0   \n",
       "4          0           3     36000.0  11.20  ...                         0   \n",
       "...      ...         ...         ...    ...  ...                       ...   \n",
       "37539      0           4    110000.0  11.33  ...                         1   \n",
       "37540      2           3     18000.0   6.40  ...                         0   \n",
       "37541      0           1    100000.0   2.30  ...                         0   \n",
       "37542      0           1    200000.0   3.72  ...                         0   \n",
       "37543      4           1     22000.0  14.29  ...                         0   \n",
       "\n",
       "       purpose_house  purpose_major_purchase  purpose_medical  purpose_moving  \\\n",
       "0                  0                       0                0               0   \n",
       "1                  0                       0                0               0   \n",
       "2                  0                       0                0               0   \n",
       "3                  0                       0                0               0   \n",
       "4                  0                       0                0               0   \n",
       "...              ...                     ...              ...             ...   \n",
       "37539              0                       0                0               0   \n",
       "37540              0                       0                0               0   \n",
       "37541              0                       0                0               0   \n",
       "37542              0                       0                0               0   \n",
       "37543              0                       0                0               0   \n",
       "\n",
       "       purpose_other  purpose_renewable_energy  purpose_small_business  \\\n",
       "0                  0                         0                       0   \n",
       "1                  0                         0                       0   \n",
       "2                  0                         0                       1   \n",
       "3                  1                         0                       0   \n",
       "4                  0                         0                       0   \n",
       "...              ...                       ...                     ...   \n",
       "37539              0                         0                       0   \n",
       "37540              0                         0                       0   \n",
       "37541              0                         0                       0   \n",
       "37542              1                         0                       0   \n",
       "37543              0                         0                       0   \n",
       "\n",
       "       purpose_vacation  purpose_wedding  \n",
       "0                     0                0  \n",
       "1                     0                0  \n",
       "2                     0                0  \n",
       "3                     0                0  \n",
       "4                     0                1  \n",
       "...                 ...              ...  \n",
       "37539                 0                0  \n",
       "37540                 0                0  \n",
       "37541                 0                0  \n",
       "37542                 0                0  \n",
       "37543                 0                0  \n",
       "\n",
       "[37544 rows x 85 columns]"
      ]
     },
     "execution_count": 103,
     "metadata": {},
     "output_type": "execute_result"
    }
   ],
   "source": [
    "x"
   ]
  },
  {
   "cell_type": "code",
   "execution_count": 104,
   "id": "cafa06b3",
   "metadata": {
    "scrolled": true
   },
   "outputs": [
    {
     "data": {
      "text/html": [
       "<div>\n",
       "<style scoped>\n",
       "    .dataframe tbody tr th:only-of-type {\n",
       "        vertical-align: middle;\n",
       "    }\n",
       "\n",
       "    .dataframe tbody tr th {\n",
       "        vertical-align: top;\n",
       "    }\n",
       "\n",
       "    .dataframe thead th {\n",
       "        text-align: right;\n",
       "    }\n",
       "</style>\n",
       "<table border=\"1\" class=\"dataframe\">\n",
       "  <thead>\n",
       "    <tr style=\"text-align: right;\">\n",
       "      <th></th>\n",
       "      <th>count</th>\n",
       "      <th>mean</th>\n",
       "      <th>std</th>\n",
       "      <th>min</th>\n",
       "      <th>25%</th>\n",
       "      <th>50%</th>\n",
       "      <th>75%</th>\n",
       "      <th>max</th>\n",
       "    </tr>\n",
       "  </thead>\n",
       "  <tbody>\n",
       "    <tr>\n",
       "      <th>loan_amnt</th>\n",
       "      <td>37544.0</td>\n",
       "      <td>11119.33</td>\n",
       "      <td>7354.10</td>\n",
       "      <td>500.00</td>\n",
       "      <td>5500.00</td>\n",
       "      <td>10000.00</td>\n",
       "      <td>15000.00</td>\n",
       "      <td>35000.00</td>\n",
       "    </tr>\n",
       "    <tr>\n",
       "      <th>funded_amnt</th>\n",
       "      <td>37544.0</td>\n",
       "      <td>10853.56</td>\n",
       "      <td>7096.32</td>\n",
       "      <td>500.00</td>\n",
       "      <td>5400.00</td>\n",
       "      <td>9600.00</td>\n",
       "      <td>15000.00</td>\n",
       "      <td>35000.00</td>\n",
       "    </tr>\n",
       "    <tr>\n",
       "      <th>funded_amnt_inv</th>\n",
       "      <td>37544.0</td>\n",
       "      <td>10280.50</td>\n",
       "      <td>7034.12</td>\n",
       "      <td>0.00</td>\n",
       "      <td>5000.00</td>\n",
       "      <td>8850.00</td>\n",
       "      <td>14075.00</td>\n",
       "      <td>35000.00</td>\n",
       "    </tr>\n",
       "    <tr>\n",
       "      <th>term</th>\n",
       "      <td>37544.0</td>\n",
       "      <td>41.92</td>\n",
       "      <td>10.34</td>\n",
       "      <td>36.00</td>\n",
       "      <td>36.00</td>\n",
       "      <td>36.00</td>\n",
       "      <td>36.00</td>\n",
       "      <td>60.00</td>\n",
       "    </tr>\n",
       "    <tr>\n",
       "      <th>int_rate</th>\n",
       "      <td>37544.0</td>\n",
       "      <td>11.96</td>\n",
       "      <td>3.68</td>\n",
       "      <td>5.42</td>\n",
       "      <td>8.94</td>\n",
       "      <td>11.83</td>\n",
       "      <td>14.42</td>\n",
       "      <td>24.40</td>\n",
       "    </tr>\n",
       "    <tr>\n",
       "      <th>installment</th>\n",
       "      <td>37544.0</td>\n",
       "      <td>324.65</td>\n",
       "      <td>208.90</td>\n",
       "      <td>15.69</td>\n",
       "      <td>167.37</td>\n",
       "      <td>280.00</td>\n",
       "      <td>428.94</td>\n",
       "      <td>1305.19</td>\n",
       "    </tr>\n",
       "    <tr>\n",
       "      <th>grade</th>\n",
       "      <td>37544.0</td>\n",
       "      <td>1.56</td>\n",
       "      <td>1.38</td>\n",
       "      <td>0.00</td>\n",
       "      <td>0.00</td>\n",
       "      <td>1.00</td>\n",
       "      <td>2.00</td>\n",
       "      <td>6.00</td>\n",
       "    </tr>\n",
       "    <tr>\n",
       "      <th>emp_length</th>\n",
       "      <td>37544.0</td>\n",
       "      <td>5.06</td>\n",
       "      <td>3.40</td>\n",
       "      <td>1.00</td>\n",
       "      <td>2.00</td>\n",
       "      <td>4.00</td>\n",
       "      <td>9.00</td>\n",
       "      <td>10.00</td>\n",
       "    </tr>\n",
       "    <tr>\n",
       "      <th>annual_inc</th>\n",
       "      <td>37544.0</td>\n",
       "      <td>69407.08</td>\n",
       "      <td>64676.98</td>\n",
       "      <td>4000.00</td>\n",
       "      <td>41000.00</td>\n",
       "      <td>60000.00</td>\n",
       "      <td>83000.00</td>\n",
       "      <td>6000000.00</td>\n",
       "    </tr>\n",
       "    <tr>\n",
       "      <th>dti</th>\n",
       "      <td>37544.0</td>\n",
       "      <td>13.28</td>\n",
       "      <td>6.66</td>\n",
       "      <td>0.00</td>\n",
       "      <td>8.16</td>\n",
       "      <td>13.38</td>\n",
       "      <td>18.55</td>\n",
       "      <td>29.99</td>\n",
       "    </tr>\n",
       "    <tr>\n",
       "      <th>delinq_2yrs</th>\n",
       "      <td>37544.0</td>\n",
       "      <td>0.15</td>\n",
       "      <td>0.49</td>\n",
       "      <td>0.00</td>\n",
       "      <td>0.00</td>\n",
       "      <td>0.00</td>\n",
       "      <td>0.00</td>\n",
       "      <td>11.00</td>\n",
       "    </tr>\n",
       "    <tr>\n",
       "      <th>inq_last_6mths</th>\n",
       "      <td>37544.0</td>\n",
       "      <td>0.87</td>\n",
       "      <td>1.07</td>\n",
       "      <td>0.00</td>\n",
       "      <td>0.00</td>\n",
       "      <td>1.00</td>\n",
       "      <td>1.00</td>\n",
       "      <td>8.00</td>\n",
       "    </tr>\n",
       "    <tr>\n",
       "      <th>open_acc</th>\n",
       "      <td>37544.0</td>\n",
       "      <td>9.30</td>\n",
       "      <td>4.40</td>\n",
       "      <td>2.00</td>\n",
       "      <td>6.00</td>\n",
       "      <td>9.00</td>\n",
       "      <td>12.00</td>\n",
       "      <td>44.00</td>\n",
       "    </tr>\n",
       "    <tr>\n",
       "      <th>pub_rec</th>\n",
       "      <td>37544.0</td>\n",
       "      <td>0.05</td>\n",
       "      <td>0.23</td>\n",
       "      <td>0.00</td>\n",
       "      <td>0.00</td>\n",
       "      <td>0.00</td>\n",
       "      <td>0.00</td>\n",
       "      <td>4.00</td>\n",
       "    </tr>\n",
       "    <tr>\n",
       "      <th>revol_bal</th>\n",
       "      <td>37544.0</td>\n",
       "      <td>13363.70</td>\n",
       "      <td>15894.97</td>\n",
       "      <td>0.00</td>\n",
       "      <td>3693.00</td>\n",
       "      <td>8840.50</td>\n",
       "      <td>17009.00</td>\n",
       "      <td>149588.00</td>\n",
       "    </tr>\n",
       "    <tr>\n",
       "      <th>revol_util</th>\n",
       "      <td>37544.0</td>\n",
       "      <td>48.86</td>\n",
       "      <td>28.32</td>\n",
       "      <td>0.00</td>\n",
       "      <td>25.50</td>\n",
       "      <td>49.30</td>\n",
       "      <td>72.40</td>\n",
       "      <td>99.90</td>\n",
       "    </tr>\n",
       "    <tr>\n",
       "      <th>total_acc</th>\n",
       "      <td>37544.0</td>\n",
       "      <td>22.08</td>\n",
       "      <td>11.42</td>\n",
       "      <td>2.00</td>\n",
       "      <td>13.00</td>\n",
       "      <td>20.00</td>\n",
       "      <td>29.00</td>\n",
       "      <td>90.00</td>\n",
       "    </tr>\n",
       "    <tr>\n",
       "      <th>total_pymnt</th>\n",
       "      <td>37544.0</td>\n",
       "      <td>11957.01</td>\n",
       "      <td>8823.94</td>\n",
       "      <td>0.00</td>\n",
       "      <td>5565.27</td>\n",
       "      <td>9777.77</td>\n",
       "      <td>16243.81</td>\n",
       "      <td>58563.68</td>\n",
       "    </tr>\n",
       "    <tr>\n",
       "      <th>total_pymnt_inv</th>\n",
       "      <td>37544.0</td>\n",
       "      <td>11348.81</td>\n",
       "      <td>8719.60</td>\n",
       "      <td>0.00</td>\n",
       "      <td>5074.04</td>\n",
       "      <td>9159.70</td>\n",
       "      <td>15442.96</td>\n",
       "      <td>58563.68</td>\n",
       "    </tr>\n",
       "    <tr>\n",
       "      <th>total_rec_prncp</th>\n",
       "      <td>37544.0</td>\n",
       "      <td>9720.12</td>\n",
       "      <td>7020.47</td>\n",
       "      <td>0.00</td>\n",
       "      <td>4552.15</td>\n",
       "      <td>8000.00</td>\n",
       "      <td>13263.32</td>\n",
       "      <td>35000.02</td>\n",
       "    </tr>\n",
       "    <tr>\n",
       "      <th>total_rec_int</th>\n",
       "      <td>37544.0</td>\n",
       "      <td>2137.02</td>\n",
       "      <td>2395.35</td>\n",
       "      <td>0.00</td>\n",
       "      <td>655.32</td>\n",
       "      <td>1321.21</td>\n",
       "      <td>2697.10</td>\n",
       "      <td>23563.68</td>\n",
       "    </tr>\n",
       "    <tr>\n",
       "      <th>total_rec_late_fee</th>\n",
       "      <td>37544.0</td>\n",
       "      <td>1.38</td>\n",
       "      <td>7.36</td>\n",
       "      <td>0.00</td>\n",
       "      <td>0.00</td>\n",
       "      <td>0.00</td>\n",
       "      <td>0.00</td>\n",
       "      <td>180.20</td>\n",
       "    </tr>\n",
       "    <tr>\n",
       "      <th>recoveries</th>\n",
       "      <td>37544.0</td>\n",
       "      <td>98.49</td>\n",
       "      <td>704.39</td>\n",
       "      <td>0.00</td>\n",
       "      <td>0.00</td>\n",
       "      <td>0.00</td>\n",
       "      <td>0.00</td>\n",
       "      <td>29623.35</td>\n",
       "    </tr>\n",
       "    <tr>\n",
       "      <th>collection_recovery_fee</th>\n",
       "      <td>37544.0</td>\n",
       "      <td>12.82</td>\n",
       "      <td>151.99</td>\n",
       "      <td>0.00</td>\n",
       "      <td>0.00</td>\n",
       "      <td>0.00</td>\n",
       "      <td>0.00</td>\n",
       "      <td>7002.19</td>\n",
       "    </tr>\n",
       "    <tr>\n",
       "      <th>last_pymnt_amnt</th>\n",
       "      <td>37544.0</td>\n",
       "      <td>2769.44</td>\n",
       "      <td>4514.77</td>\n",
       "      <td>0.00</td>\n",
       "      <td>220.82</td>\n",
       "      <td>578.54</td>\n",
       "      <td>3494.71</td>\n",
       "      <td>36115.20</td>\n",
       "    </tr>\n",
       "    <tr>\n",
       "      <th>pub_rec_bankruptcies</th>\n",
       "      <td>37544.0</td>\n",
       "      <td>0.04</td>\n",
       "      <td>0.20</td>\n",
       "      <td>0.00</td>\n",
       "      <td>0.00</td>\n",
       "      <td>0.00</td>\n",
       "      <td>0.00</td>\n",
       "      <td>2.00</td>\n",
       "    </tr>\n",
       "    <tr>\n",
       "      <th>isd_month</th>\n",
       "      <td>37544.0</td>\n",
       "      <td>7.11</td>\n",
       "      <td>3.41</td>\n",
       "      <td>1.00</td>\n",
       "      <td>4.00</td>\n",
       "      <td>7.00</td>\n",
       "      <td>10.00</td>\n",
       "      <td>12.00</td>\n",
       "    </tr>\n",
       "    <tr>\n",
       "      <th>isd_year</th>\n",
       "      <td>37544.0</td>\n",
       "      <td>2010.30</td>\n",
       "      <td>0.89</td>\n",
       "      <td>2007.00</td>\n",
       "      <td>2010.00</td>\n",
       "      <td>2011.00</td>\n",
       "      <td>2011.00</td>\n",
       "      <td>2011.00</td>\n",
       "    </tr>\n",
       "  </tbody>\n",
       "</table>\n",
       "</div>"
      ],
      "text/plain": [
       "                           count      mean       std      min       25%  \\\n",
       "loan_amnt                37544.0  11119.33   7354.10   500.00   5500.00   \n",
       "funded_amnt              37544.0  10853.56   7096.32   500.00   5400.00   \n",
       "funded_amnt_inv          37544.0  10280.50   7034.12     0.00   5000.00   \n",
       "term                     37544.0     41.92     10.34    36.00     36.00   \n",
       "int_rate                 37544.0     11.96      3.68     5.42      8.94   \n",
       "installment              37544.0    324.65    208.90    15.69    167.37   \n",
       "grade                    37544.0      1.56      1.38     0.00      0.00   \n",
       "emp_length               37544.0      5.06      3.40     1.00      2.00   \n",
       "annual_inc               37544.0  69407.08  64676.98  4000.00  41000.00   \n",
       "dti                      37544.0     13.28      6.66     0.00      8.16   \n",
       "delinq_2yrs              37544.0      0.15      0.49     0.00      0.00   \n",
       "inq_last_6mths           37544.0      0.87      1.07     0.00      0.00   \n",
       "open_acc                 37544.0      9.30      4.40     2.00      6.00   \n",
       "pub_rec                  37544.0      0.05      0.23     0.00      0.00   \n",
       "revol_bal                37544.0  13363.70  15894.97     0.00   3693.00   \n",
       "revol_util               37544.0     48.86     28.32     0.00     25.50   \n",
       "total_acc                37544.0     22.08     11.42     2.00     13.00   \n",
       "total_pymnt              37544.0  11957.01   8823.94     0.00   5565.27   \n",
       "total_pymnt_inv          37544.0  11348.81   8719.60     0.00   5074.04   \n",
       "total_rec_prncp          37544.0   9720.12   7020.47     0.00   4552.15   \n",
       "total_rec_int            37544.0   2137.02   2395.35     0.00    655.32   \n",
       "total_rec_late_fee       37544.0      1.38      7.36     0.00      0.00   \n",
       "recoveries               37544.0     98.49    704.39     0.00      0.00   \n",
       "collection_recovery_fee  37544.0     12.82    151.99     0.00      0.00   \n",
       "last_pymnt_amnt          37544.0   2769.44   4514.77     0.00    220.82   \n",
       "pub_rec_bankruptcies     37544.0      0.04      0.20     0.00      0.00   \n",
       "isd_month                37544.0      7.11      3.41     1.00      4.00   \n",
       "isd_year                 37544.0   2010.30      0.89  2007.00   2010.00   \n",
       "\n",
       "                              50%       75%         max  \n",
       "loan_amnt                10000.00  15000.00    35000.00  \n",
       "funded_amnt               9600.00  15000.00    35000.00  \n",
       "funded_amnt_inv           8850.00  14075.00    35000.00  \n",
       "term                        36.00     36.00       60.00  \n",
       "int_rate                    11.83     14.42       24.40  \n",
       "installment                280.00    428.94     1305.19  \n",
       "grade                        1.00      2.00        6.00  \n",
       "emp_length                   4.00      9.00       10.00  \n",
       "annual_inc               60000.00  83000.00  6000000.00  \n",
       "dti                         13.38     18.55       29.99  \n",
       "delinq_2yrs                  0.00      0.00       11.00  \n",
       "inq_last_6mths               1.00      1.00        8.00  \n",
       "open_acc                     9.00     12.00       44.00  \n",
       "pub_rec                      0.00      0.00        4.00  \n",
       "revol_bal                 8840.50  17009.00   149588.00  \n",
       "revol_util                  49.30     72.40       99.90  \n",
       "total_acc                   20.00     29.00       90.00  \n",
       "total_pymnt               9777.77  16243.81    58563.68  \n",
       "total_pymnt_inv           9159.70  15442.96    58563.68  \n",
       "total_rec_prncp           8000.00  13263.32    35000.02  \n",
       "total_rec_int             1321.21   2697.10    23563.68  \n",
       "total_rec_late_fee           0.00      0.00      180.20  \n",
       "recoveries                   0.00      0.00    29623.35  \n",
       "collection_recovery_fee      0.00      0.00     7002.19  \n",
       "last_pymnt_amnt            578.54   3494.71    36115.20  \n",
       "pub_rec_bankruptcies         0.00      0.00        2.00  \n",
       "isd_month                    7.00     10.00       12.00  \n",
       "isd_year                  2011.00   2011.00     2011.00  "
      ]
     },
     "execution_count": 104,
     "metadata": {},
     "output_type": "execute_result"
    }
   ],
   "source": [
    "new_data.describe().round(2).T"
   ]
  },
  {
   "cell_type": "code",
   "execution_count": 105,
   "id": "30d52d50",
   "metadata": {},
   "outputs": [
    {
     "data": {
      "text/plain": [
       "Index(['loan_amnt', 'funded_amnt', 'funded_amnt_inv', 'term', 'int_rate',\n",
       "       'installment', 'grade', 'emp_length', 'annual_inc', 'dti',\n",
       "       'delinq_2yrs', 'inq_last_6mths', 'open_acc', 'pub_rec', 'revol_bal',\n",
       "       'revol_util', 'total_acc', 'total_pymnt', 'total_pymnt_inv',\n",
       "       'total_rec_prncp', 'total_rec_int', 'total_rec_late_fee', 'recoveries',\n",
       "       'collection_recovery_fee', 'last_pymnt_amnt', 'pub_rec_bankruptcies',\n",
       "       'isd_month', 'isd_year', 'sub_grade_A1', 'sub_grade_A2', 'sub_grade_A3',\n",
       "       'sub_grade_A4', 'sub_grade_A5', 'sub_grade_B1', 'sub_grade_B2',\n",
       "       'sub_grade_B3', 'sub_grade_B4', 'sub_grade_B5', 'sub_grade_C1',\n",
       "       'sub_grade_C2', 'sub_grade_C3', 'sub_grade_C4', 'sub_grade_C5',\n",
       "       'sub_grade_D1', 'sub_grade_D2', 'sub_grade_D3', 'sub_grade_D4',\n",
       "       'sub_grade_D5', 'sub_grade_E1', 'sub_grade_E2', 'sub_grade_E3',\n",
       "       'sub_grade_E4', 'sub_grade_E5', 'sub_grade_F1', 'sub_grade_F2',\n",
       "       'sub_grade_F3', 'sub_grade_F4', 'sub_grade_F5', 'sub_grade_G1',\n",
       "       'sub_grade_G2', 'sub_grade_G3', 'sub_grade_G4', 'sub_grade_G5',\n",
       "       'home_ownership_MORTGAGE', 'home_ownership_NONE',\n",
       "       'home_ownership_OTHER', 'home_ownership_OWN', 'home_ownership_RENT',\n",
       "       'verification_status_Not Verified',\n",
       "       'verification_status_Source Verified', 'verification_status_Verified',\n",
       "       'purpose_car', 'purpose_credit_card', 'purpose_debt_consolidation',\n",
       "       'purpose_educational', 'purpose_home_improvement', 'purpose_house',\n",
       "       'purpose_major_purchase', 'purpose_medical', 'purpose_moving',\n",
       "       'purpose_other', 'purpose_renewable_energy', 'purpose_small_business',\n",
       "       'purpose_vacation', 'purpose_wedding'],\n",
       "      dtype='object')"
      ]
     },
     "execution_count": 105,
     "metadata": {},
     "output_type": "execute_result"
    }
   ],
   "source": [
    "x.columns"
   ]
  },
  {
   "cell_type": "code",
   "execution_count": 106,
   "id": "6939f5ce",
   "metadata": {},
   "outputs": [
    {
     "data": {
      "text/html": [
       "<div>\n",
       "<style scoped>\n",
       "    .dataframe tbody tr th:only-of-type {\n",
       "        vertical-align: middle;\n",
       "    }\n",
       "\n",
       "    .dataframe tbody tr th {\n",
       "        vertical-align: top;\n",
       "    }\n",
       "\n",
       "    .dataframe thead th {\n",
       "        text-align: right;\n",
       "    }\n",
       "</style>\n",
       "<table border=\"1\" class=\"dataframe\">\n",
       "  <thead>\n",
       "    <tr style=\"text-align: right;\">\n",
       "      <th></th>\n",
       "      <th>loan_amnt</th>\n",
       "      <th>funded_amnt</th>\n",
       "      <th>funded_amnt_inv</th>\n",
       "      <th>term</th>\n",
       "      <th>int_rate</th>\n",
       "      <th>installment</th>\n",
       "      <th>grade</th>\n",
       "      <th>emp_length</th>\n",
       "      <th>annual_inc</th>\n",
       "      <th>dti</th>\n",
       "    </tr>\n",
       "  </thead>\n",
       "  <tbody>\n",
       "    <tr>\n",
       "      <th>count</th>\n",
       "      <td>37544.000000</td>\n",
       "      <td>37544.000000</td>\n",
       "      <td>37544.000000</td>\n",
       "      <td>37544.000000</td>\n",
       "      <td>37544.000000</td>\n",
       "      <td>37544.000000</td>\n",
       "      <td>37544.000000</td>\n",
       "      <td>37544.000000</td>\n",
       "      <td>3.754400e+04</td>\n",
       "      <td>37544.000000</td>\n",
       "    </tr>\n",
       "    <tr>\n",
       "      <th>mean</th>\n",
       "      <td>11119.329986</td>\n",
       "      <td>10853.560489</td>\n",
       "      <td>10280.495739</td>\n",
       "      <td>41.917537</td>\n",
       "      <td>11.963319</td>\n",
       "      <td>324.650164</td>\n",
       "      <td>1.563419</td>\n",
       "      <td>5.061048</td>\n",
       "      <td>6.940708e+04</td>\n",
       "      <td>13.284186</td>\n",
       "    </tr>\n",
       "    <tr>\n",
       "      <th>std</th>\n",
       "      <td>7354.098954</td>\n",
       "      <td>7096.316776</td>\n",
       "      <td>7034.124211</td>\n",
       "      <td>10.344394</td>\n",
       "      <td>3.683012</td>\n",
       "      <td>208.901055</td>\n",
       "      <td>1.381968</td>\n",
       "      <td>3.401750</td>\n",
       "      <td>6.467698e+04</td>\n",
       "      <td>6.660551</td>\n",
       "    </tr>\n",
       "    <tr>\n",
       "      <th>min</th>\n",
       "      <td>500.000000</td>\n",
       "      <td>500.000000</td>\n",
       "      <td>0.000000</td>\n",
       "      <td>36.000000</td>\n",
       "      <td>5.420000</td>\n",
       "      <td>15.690000</td>\n",
       "      <td>0.000000</td>\n",
       "      <td>1.000000</td>\n",
       "      <td>4.000000e+03</td>\n",
       "      <td>0.000000</td>\n",
       "    </tr>\n",
       "    <tr>\n",
       "      <th>25%</th>\n",
       "      <td>5500.000000</td>\n",
       "      <td>5400.000000</td>\n",
       "      <td>5000.000000</td>\n",
       "      <td>36.000000</td>\n",
       "      <td>8.940000</td>\n",
       "      <td>167.370000</td>\n",
       "      <td>0.000000</td>\n",
       "      <td>2.000000</td>\n",
       "      <td>4.100000e+04</td>\n",
       "      <td>8.160000</td>\n",
       "    </tr>\n",
       "    <tr>\n",
       "      <th>50%</th>\n",
       "      <td>10000.000000</td>\n",
       "      <td>9600.000000</td>\n",
       "      <td>8850.000000</td>\n",
       "      <td>36.000000</td>\n",
       "      <td>11.830000</td>\n",
       "      <td>280.000000</td>\n",
       "      <td>1.000000</td>\n",
       "      <td>4.000000</td>\n",
       "      <td>6.000000e+04</td>\n",
       "      <td>13.380000</td>\n",
       "    </tr>\n",
       "    <tr>\n",
       "      <th>75%</th>\n",
       "      <td>15000.000000</td>\n",
       "      <td>15000.000000</td>\n",
       "      <td>14075.000000</td>\n",
       "      <td>36.000000</td>\n",
       "      <td>14.420000</td>\n",
       "      <td>428.942500</td>\n",
       "      <td>2.000000</td>\n",
       "      <td>9.000000</td>\n",
       "      <td>8.300000e+04</td>\n",
       "      <td>18.550000</td>\n",
       "    </tr>\n",
       "    <tr>\n",
       "      <th>max</th>\n",
       "      <td>35000.000000</td>\n",
       "      <td>35000.000000</td>\n",
       "      <td>35000.000000</td>\n",
       "      <td>60.000000</td>\n",
       "      <td>24.400000</td>\n",
       "      <td>1305.190000</td>\n",
       "      <td>6.000000</td>\n",
       "      <td>10.000000</td>\n",
       "      <td>6.000000e+06</td>\n",
       "      <td>29.990000</td>\n",
       "    </tr>\n",
       "  </tbody>\n",
       "</table>\n",
       "</div>"
      ],
      "text/plain": [
       "          loan_amnt   funded_amnt  funded_amnt_inv          term  \\\n",
       "count  37544.000000  37544.000000     37544.000000  37544.000000   \n",
       "mean   11119.329986  10853.560489     10280.495739     41.917537   \n",
       "std     7354.098954   7096.316776      7034.124211     10.344394   \n",
       "min      500.000000    500.000000         0.000000     36.000000   \n",
       "25%     5500.000000   5400.000000      5000.000000     36.000000   \n",
       "50%    10000.000000   9600.000000      8850.000000     36.000000   \n",
       "75%    15000.000000  15000.000000     14075.000000     36.000000   \n",
       "max    35000.000000  35000.000000     35000.000000     60.000000   \n",
       "\n",
       "           int_rate   installment         grade    emp_length    annual_inc  \\\n",
       "count  37544.000000  37544.000000  37544.000000  37544.000000  3.754400e+04   \n",
       "mean      11.963319    324.650164      1.563419      5.061048  6.940708e+04   \n",
       "std        3.683012    208.901055      1.381968      3.401750  6.467698e+04   \n",
       "min        5.420000     15.690000      0.000000      1.000000  4.000000e+03   \n",
       "25%        8.940000    167.370000      0.000000      2.000000  4.100000e+04   \n",
       "50%       11.830000    280.000000      1.000000      4.000000  6.000000e+04   \n",
       "75%       14.420000    428.942500      2.000000      9.000000  8.300000e+04   \n",
       "max       24.400000   1305.190000      6.000000     10.000000  6.000000e+06   \n",
       "\n",
       "                dti  \n",
       "count  37544.000000  \n",
       "mean      13.284186  \n",
       "std        6.660551  \n",
       "min        0.000000  \n",
       "25%        8.160000  \n",
       "50%       13.380000  \n",
       "75%       18.550000  \n",
       "max       29.990000  "
      ]
     },
     "execution_count": 106,
     "metadata": {},
     "output_type": "execute_result"
    }
   ],
   "source": [
    "new_data[['loan_amnt', 'funded_amnt', 'funded_amnt_inv', 'term', 'int_rate','installment', 'grade', 'emp_length', 'annual_inc', 'dti']].describe()"
   ]
  },
  {
   "cell_type": "code",
   "execution_count": 107,
   "id": "793a96ce",
   "metadata": {},
   "outputs": [
    {
     "data": {
      "text/html": [
       "<div>\n",
       "<style scoped>\n",
       "    .dataframe tbody tr th:only-of-type {\n",
       "        vertical-align: middle;\n",
       "    }\n",
       "\n",
       "    .dataframe tbody tr th {\n",
       "        vertical-align: top;\n",
       "    }\n",
       "\n",
       "    .dataframe thead th {\n",
       "        text-align: right;\n",
       "    }\n",
       "</style>\n",
       "<table border=\"1\" class=\"dataframe\">\n",
       "  <thead>\n",
       "    <tr style=\"text-align: right;\">\n",
       "      <th></th>\n",
       "      <th>delinq_2yrs</th>\n",
       "      <th>inq_last_6mths</th>\n",
       "      <th>open_acc</th>\n",
       "      <th>pub_rec</th>\n",
       "      <th>revol_bal</th>\n",
       "      <th>revol_util</th>\n",
       "      <th>total_acc</th>\n",
       "      <th>total_pymnt</th>\n",
       "      <th>total_pymnt_inv</th>\n",
       "      <th>total_rec_prncp</th>\n",
       "    </tr>\n",
       "  </thead>\n",
       "  <tbody>\n",
       "    <tr>\n",
       "      <th>count</th>\n",
       "      <td>37544.000000</td>\n",
       "      <td>37544.000000</td>\n",
       "      <td>37544.000000</td>\n",
       "      <td>37544.000000</td>\n",
       "      <td>37544.000000</td>\n",
       "      <td>37544.000000</td>\n",
       "      <td>37544.000000</td>\n",
       "      <td>37544.000000</td>\n",
       "      <td>37544.000000</td>\n",
       "      <td>37544.000000</td>\n",
       "    </tr>\n",
       "    <tr>\n",
       "      <th>mean</th>\n",
       "      <td>0.147107</td>\n",
       "      <td>0.872390</td>\n",
       "      <td>9.298476</td>\n",
       "      <td>0.053724</td>\n",
       "      <td>13363.702562</td>\n",
       "      <td>48.862291</td>\n",
       "      <td>22.083875</td>\n",
       "      <td>11957.010792</td>\n",
       "      <td>11348.809823</td>\n",
       "      <td>9720.124658</td>\n",
       "    </tr>\n",
       "    <tr>\n",
       "      <th>std</th>\n",
       "      <td>0.493479</td>\n",
       "      <td>1.071003</td>\n",
       "      <td>4.396229</td>\n",
       "      <td>0.234622</td>\n",
       "      <td>15894.970643</td>\n",
       "      <td>28.323751</td>\n",
       "      <td>11.416494</td>\n",
       "      <td>8823.936817</td>\n",
       "      <td>8719.604728</td>\n",
       "      <td>7020.466734</td>\n",
       "    </tr>\n",
       "    <tr>\n",
       "      <th>min</th>\n",
       "      <td>0.000000</td>\n",
       "      <td>0.000000</td>\n",
       "      <td>2.000000</td>\n",
       "      <td>0.000000</td>\n",
       "      <td>0.000000</td>\n",
       "      <td>0.000000</td>\n",
       "      <td>2.000000</td>\n",
       "      <td>0.000000</td>\n",
       "      <td>0.000000</td>\n",
       "      <td>0.000000</td>\n",
       "    </tr>\n",
       "    <tr>\n",
       "      <th>25%</th>\n",
       "      <td>0.000000</td>\n",
       "      <td>0.000000</td>\n",
       "      <td>6.000000</td>\n",
       "      <td>0.000000</td>\n",
       "      <td>3693.000000</td>\n",
       "      <td>25.500000</td>\n",
       "      <td>13.000000</td>\n",
       "      <td>5565.271934</td>\n",
       "      <td>5074.037500</td>\n",
       "      <td>4552.150000</td>\n",
       "    </tr>\n",
       "    <tr>\n",
       "      <th>50%</th>\n",
       "      <td>0.000000</td>\n",
       "      <td>1.000000</td>\n",
       "      <td>9.000000</td>\n",
       "      <td>0.000000</td>\n",
       "      <td>8840.500000</td>\n",
       "      <td>49.300000</td>\n",
       "      <td>20.000000</td>\n",
       "      <td>9777.765034</td>\n",
       "      <td>9159.695000</td>\n",
       "      <td>8000.000000</td>\n",
       "    </tr>\n",
       "    <tr>\n",
       "      <th>75%</th>\n",
       "      <td>0.000000</td>\n",
       "      <td>1.000000</td>\n",
       "      <td>12.000000</td>\n",
       "      <td>0.000000</td>\n",
       "      <td>17009.000000</td>\n",
       "      <td>72.400000</td>\n",
       "      <td>29.000000</td>\n",
       "      <td>16243.811330</td>\n",
       "      <td>15442.962500</td>\n",
       "      <td>13263.315000</td>\n",
       "    </tr>\n",
       "    <tr>\n",
       "      <th>max</th>\n",
       "      <td>11.000000</td>\n",
       "      <td>8.000000</td>\n",
       "      <td>44.000000</td>\n",
       "      <td>4.000000</td>\n",
       "      <td>149588.000000</td>\n",
       "      <td>99.900000</td>\n",
       "      <td>90.000000</td>\n",
       "      <td>58563.679930</td>\n",
       "      <td>58563.680000</td>\n",
       "      <td>35000.020000</td>\n",
       "    </tr>\n",
       "  </tbody>\n",
       "</table>\n",
       "</div>"
      ],
      "text/plain": [
       "        delinq_2yrs  inq_last_6mths      open_acc       pub_rec  \\\n",
       "count  37544.000000    37544.000000  37544.000000  37544.000000   \n",
       "mean       0.147107        0.872390      9.298476      0.053724   \n",
       "std        0.493479        1.071003      4.396229      0.234622   \n",
       "min        0.000000        0.000000      2.000000      0.000000   \n",
       "25%        0.000000        0.000000      6.000000      0.000000   \n",
       "50%        0.000000        1.000000      9.000000      0.000000   \n",
       "75%        0.000000        1.000000     12.000000      0.000000   \n",
       "max       11.000000        8.000000     44.000000      4.000000   \n",
       "\n",
       "           revol_bal    revol_util     total_acc   total_pymnt  \\\n",
       "count   37544.000000  37544.000000  37544.000000  37544.000000   \n",
       "mean    13363.702562     48.862291     22.083875  11957.010792   \n",
       "std     15894.970643     28.323751     11.416494   8823.936817   \n",
       "min         0.000000      0.000000      2.000000      0.000000   \n",
       "25%      3693.000000     25.500000     13.000000   5565.271934   \n",
       "50%      8840.500000     49.300000     20.000000   9777.765034   \n",
       "75%     17009.000000     72.400000     29.000000  16243.811330   \n",
       "max    149588.000000     99.900000     90.000000  58563.679930   \n",
       "\n",
       "       total_pymnt_inv  total_rec_prncp  \n",
       "count     37544.000000     37544.000000  \n",
       "mean      11348.809823      9720.124658  \n",
       "std        8719.604728      7020.466734  \n",
       "min           0.000000         0.000000  \n",
       "25%        5074.037500      4552.150000  \n",
       "50%        9159.695000      8000.000000  \n",
       "75%       15442.962500     13263.315000  \n",
       "max       58563.680000     35000.020000  "
      ]
     },
     "execution_count": 107,
     "metadata": {},
     "output_type": "execute_result"
    }
   ],
   "source": [
    "new_data[['delinq_2yrs', 'inq_last_6mths', 'open_acc', 'pub_rec', 'revol_bal',\n",
    "       'revol_util', 'total_acc', 'total_pymnt', 'total_pymnt_inv',\n",
    "       'total_rec_prncp',]].describe()"
   ]
  },
  {
   "cell_type": "code",
   "execution_count": 108,
   "id": "9219d138",
   "metadata": {},
   "outputs": [
    {
     "data": {
      "text/html": [
       "<div>\n",
       "<style scoped>\n",
       "    .dataframe tbody tr th:only-of-type {\n",
       "        vertical-align: middle;\n",
       "    }\n",
       "\n",
       "    .dataframe tbody tr th {\n",
       "        vertical-align: top;\n",
       "    }\n",
       "\n",
       "    .dataframe thead th {\n",
       "        text-align: right;\n",
       "    }\n",
       "</style>\n",
       "<table border=\"1\" class=\"dataframe\">\n",
       "  <thead>\n",
       "    <tr style=\"text-align: right;\">\n",
       "      <th></th>\n",
       "      <th>total_rec_int</th>\n",
       "      <th>total_rec_late_fee</th>\n",
       "      <th>recoveries</th>\n",
       "      <th>collection_recovery_fee</th>\n",
       "      <th>last_pymnt_amnt</th>\n",
       "      <th>pub_rec_bankruptcies</th>\n",
       "    </tr>\n",
       "  </thead>\n",
       "  <tbody>\n",
       "    <tr>\n",
       "      <th>count</th>\n",
       "      <td>37544.000000</td>\n",
       "      <td>37544.000000</td>\n",
       "      <td>37544.000000</td>\n",
       "      <td>37544.000000</td>\n",
       "      <td>37544.000000</td>\n",
       "      <td>37544.000000</td>\n",
       "    </tr>\n",
       "    <tr>\n",
       "      <th>mean</th>\n",
       "      <td>2137.018706</td>\n",
       "      <td>1.378980</td>\n",
       "      <td>98.488534</td>\n",
       "      <td>12.815757</td>\n",
       "      <td>2769.442228</td>\n",
       "      <td>0.041019</td>\n",
       "    </tr>\n",
       "    <tr>\n",
       "      <th>std</th>\n",
       "      <td>2395.346010</td>\n",
       "      <td>7.360282</td>\n",
       "      <td>704.389292</td>\n",
       "      <td>151.989005</td>\n",
       "      <td>4514.772596</td>\n",
       "      <td>0.199006</td>\n",
       "    </tr>\n",
       "    <tr>\n",
       "      <th>min</th>\n",
       "      <td>0.000000</td>\n",
       "      <td>0.000000</td>\n",
       "      <td>0.000000</td>\n",
       "      <td>0.000000</td>\n",
       "      <td>0.000000</td>\n",
       "      <td>0.000000</td>\n",
       "    </tr>\n",
       "    <tr>\n",
       "      <th>25%</th>\n",
       "      <td>655.317500</td>\n",
       "      <td>0.000000</td>\n",
       "      <td>0.000000</td>\n",
       "      <td>0.000000</td>\n",
       "      <td>220.820000</td>\n",
       "      <td>0.000000</td>\n",
       "    </tr>\n",
       "    <tr>\n",
       "      <th>50%</th>\n",
       "      <td>1321.210000</td>\n",
       "      <td>0.000000</td>\n",
       "      <td>0.000000</td>\n",
       "      <td>0.000000</td>\n",
       "      <td>578.540000</td>\n",
       "      <td>0.000000</td>\n",
       "    </tr>\n",
       "    <tr>\n",
       "      <th>75%</th>\n",
       "      <td>2697.102500</td>\n",
       "      <td>0.000000</td>\n",
       "      <td>0.000000</td>\n",
       "      <td>0.000000</td>\n",
       "      <td>3494.710000</td>\n",
       "      <td>0.000000</td>\n",
       "    </tr>\n",
       "    <tr>\n",
       "      <th>max</th>\n",
       "      <td>23563.680000</td>\n",
       "      <td>180.200000</td>\n",
       "      <td>29623.350000</td>\n",
       "      <td>7002.190000</td>\n",
       "      <td>36115.200000</td>\n",
       "      <td>2.000000</td>\n",
       "    </tr>\n",
       "  </tbody>\n",
       "</table>\n",
       "</div>"
      ],
      "text/plain": [
       "       total_rec_int  total_rec_late_fee    recoveries  \\\n",
       "count   37544.000000        37544.000000  37544.000000   \n",
       "mean     2137.018706            1.378980     98.488534   \n",
       "std      2395.346010            7.360282    704.389292   \n",
       "min         0.000000            0.000000      0.000000   \n",
       "25%       655.317500            0.000000      0.000000   \n",
       "50%      1321.210000            0.000000      0.000000   \n",
       "75%      2697.102500            0.000000      0.000000   \n",
       "max     23563.680000          180.200000  29623.350000   \n",
       "\n",
       "       collection_recovery_fee  last_pymnt_amnt  pub_rec_bankruptcies  \n",
       "count             37544.000000     37544.000000          37544.000000  \n",
       "mean                 12.815757      2769.442228              0.041019  \n",
       "std                 151.989005      4514.772596              0.199006  \n",
       "min                   0.000000         0.000000              0.000000  \n",
       "25%                   0.000000       220.820000              0.000000  \n",
       "50%                   0.000000       578.540000              0.000000  \n",
       "75%                   0.000000      3494.710000              0.000000  \n",
       "max                7002.190000     36115.200000              2.000000  "
      ]
     },
     "execution_count": 108,
     "metadata": {},
     "output_type": "execute_result"
    }
   ],
   "source": [
    "new_data[['total_rec_int', 'total_rec_late_fee', 'recoveries',\n",
    "       'collection_recovery_fee', 'last_pymnt_amnt', 'pub_rec_bankruptcies']].describe()"
   ]
  },
  {
   "cell_type": "markdown",
   "id": "367c0b08",
   "metadata": {},
   "source": [
    " Do the scaling and apply logisitc regression , KNN, svm"
   ]
  },
  {
   "cell_type": "code",
   "execution_count": 109,
   "id": "ea0b20b4",
   "metadata": {},
   "outputs": [],
   "source": [
    "num_c=['loan_amnt', 'funded_amnt', 'funded_amnt_inv','installment', 'annual_inc', 'revol_bal','total_pymnt', 'total_pymnt_inv',\n",
    "       'total_rec_prncp', 'total_rec_int', 'total_rec_late_fee', 'recoveries',\n",
    "       'collection_recovery_fee', 'last_pymnt_amnt']\n",
    "from sklearn.preprocessing import StandardScaler\n",
    "sc=StandardScaler()\n",
    "x.loc[:,num_c]=sc.fit_transform(x[num_c])"
   ]
  },
  {
   "cell_type": "code",
   "execution_count": 110,
   "id": "e55cab48",
   "metadata": {},
   "outputs": [],
   "source": [
    "x_train, x_test, y_train , y_test = train_test_split(x,y,\n",
    "                                                    test_size=0.2,random_state=134)"
   ]
  },
  {
   "cell_type": "markdown",
   "id": "806807b4",
   "metadata": {},
   "source": [
    "# logisitc regression , KNN, svm"
   ]
  },
  {
   "cell_type": "code",
   "execution_count": 111,
   "id": "d31b443d",
   "metadata": {},
   "outputs": [],
   "source": [
    "from sklearn.linear_model import LogisticRegression"
   ]
  },
  {
   "cell_type": "code",
   "execution_count": 112,
   "id": "14df8d51",
   "metadata": {},
   "outputs": [
    {
     "name": "stderr",
     "output_type": "stream",
     "text": [
      "D:\\anaconda3\\lib\\site-packages\\sklearn\\linear_model\\_logistic.py:814: ConvergenceWarning: lbfgs failed to converge (status=1):\n",
      "STOP: TOTAL NO. of ITERATIONS REACHED LIMIT.\n",
      "\n",
      "Increase the number of iterations (max_iter) or scale the data as shown in:\n",
      "    https://scikit-learn.org/stable/modules/preprocessing.html\n",
      "Please also refer to the documentation for alternative solver options:\n",
      "    https://scikit-learn.org/stable/modules/linear_model.html#logistic-regression\n",
      "  n_iter_i = _check_optimize_result(\n"
     ]
    }
   ],
   "source": [
    "lr = LogisticRegression(max_iter=1000, C=100)\n",
    "lr.fit(x_train, y_train)\n",
    "y_pred = lr.predict(x_test)"
   ]
  },
  {
   "cell_type": "code",
   "execution_count": 113,
   "id": "a9b6c193",
   "metadata": {},
   "outputs": [],
   "source": [
    "from sklearn.metrics import accuracy_score, confusion_matrix"
   ]
  },
  {
   "cell_type": "code",
   "execution_count": 114,
   "id": "d2d40340",
   "metadata": {},
   "outputs": [
    {
     "data": {
      "text/plain": [
       "99.25422825942204"
      ]
     },
     "execution_count": 114,
     "metadata": {},
     "output_type": "execute_result"
    }
   ],
   "source": [
    "accuracy_score(y_test, y_pred)*100"
   ]
  },
  {
   "cell_type": "code",
   "execution_count": 115,
   "id": "a6c6fc47",
   "metadata": {},
   "outputs": [
    {
     "data": {
      "text/plain": [
       "array([[1077,   46],\n",
       "       [  10, 6376]], dtype=int64)"
      ]
     },
     "execution_count": 115,
     "metadata": {},
     "output_type": "execute_result"
    }
   ],
   "source": [
    "confusion_matrix(y_test, y_pred)"
   ]
  },
  {
   "cell_type": "code",
   "execution_count": 116,
   "id": "45f18a58",
   "metadata": {},
   "outputs": [
    {
     "name": "stdout",
     "output_type": "stream",
     "text": [
      "              precision    recall  f1-score   support\n",
      "\n",
      " Charged Off       0.99      0.96      0.97      1123\n",
      "  Fully Paid       0.99      1.00      1.00      6386\n",
      "\n",
      "    accuracy                           0.99      7509\n",
      "   macro avg       0.99      0.98      0.99      7509\n",
      "weighted avg       0.99      0.99      0.99      7509\n",
      "\n"
     ]
    }
   ],
   "source": [
    "print(classification_report(y_test,y_pred))"
   ]
  },
  {
   "cell_type": "code",
   "execution_count": 117,
   "id": "b00889e5",
   "metadata": {},
   "outputs": [],
   "source": [
    "from sklearn.neighbors import KNeighborsClassifier"
   ]
  },
  {
   "cell_type": "code",
   "execution_count": 118,
   "id": "32c32d77",
   "metadata": {},
   "outputs": [
    {
     "name": "stderr",
     "output_type": "stream",
     "text": [
      "D:\\anaconda3\\lib\\site-packages\\sklearn\\neighbors\\_classification.py:228: FutureWarning: Unlike other reduction functions (e.g. `skew`, `kurtosis`), the default behavior of `mode` typically preserves the axis it acts along. In SciPy 1.11.0, this behavior will change: the default value of `keepdims` will become False, the `axis` over which the statistic is taken will be eliminated, and the value None will no longer be accepted. Set `keepdims` to True or False to avoid this warning.\n",
      "  mode, _ = stats.mode(_y[neigh_ind, k], axis=1)\n"
     ]
    }
   ],
   "source": [
    "knn = KNeighborsClassifier(n_neighbors=13)\n",
    "knn.fit(x_train, y_train)\n",
    "y_pred = knn.predict(x_test)"
   ]
  },
  {
   "cell_type": "code",
   "execution_count": 119,
   "id": "69db787f",
   "metadata": {},
   "outputs": [
    {
     "data": {
      "text/plain": [
       "86.05673192169397"
      ]
     },
     "execution_count": 119,
     "metadata": {},
     "output_type": "execute_result"
    }
   ],
   "source": [
    "accuracy_score(y_test, y_pred)*100"
   ]
  },
  {
   "cell_type": "code",
   "execution_count": 120,
   "id": "cab13572",
   "metadata": {},
   "outputs": [
    {
     "data": {
      "text/plain": [
       "array([[  88, 1035],\n",
       "       [  12, 6374]], dtype=int64)"
      ]
     },
     "execution_count": 120,
     "metadata": {},
     "output_type": "execute_result"
    }
   ],
   "source": [
    "confusion_matrix(y_test, y_pred)"
   ]
  },
  {
   "cell_type": "code",
   "execution_count": 121,
   "id": "7141ac30",
   "metadata": {},
   "outputs": [
    {
     "name": "stdout",
     "output_type": "stream",
     "text": [
      "              precision    recall  f1-score   support\n",
      "\n",
      " Charged Off       0.88      0.08      0.14      1123\n",
      "  Fully Paid       0.86      1.00      0.92      6386\n",
      "\n",
      "    accuracy                           0.86      7509\n",
      "   macro avg       0.87      0.54      0.53      7509\n",
      "weighted avg       0.86      0.86      0.81      7509\n",
      "\n"
     ]
    }
   ],
   "source": [
    "print(classification_report(y_test,y_pred))"
   ]
  },
  {
   "cell_type": "code",
   "execution_count": 122,
   "id": "a1be572e",
   "metadata": {},
   "outputs": [],
   "source": [
    "from sklearn.svm import SVC"
   ]
  },
  {
   "cell_type": "code",
   "execution_count": 123,
   "id": "207ee88a",
   "metadata": {},
   "outputs": [],
   "source": [
    "svm = SVC(kernel='linear')\n",
    "svm.fit(x_train, y_train)\n",
    "y_pred = svm.predict(x_test)"
   ]
  },
  {
   "cell_type": "code",
   "execution_count": 124,
   "id": "a69f0bd5",
   "metadata": {},
   "outputs": [
    {
     "name": "stdout",
     "output_type": "stream",
     "text": [
      "              precision    recall  f1-score   support\n",
      "\n",
      " Charged Off       1.00      0.96      0.98      1123\n",
      "  Fully Paid       0.99      1.00      1.00      6386\n",
      "\n",
      "    accuracy                           0.99      7509\n",
      "   macro avg       1.00      0.98      0.99      7509\n",
      "weighted avg       0.99      0.99      0.99      7509\n",
      "\n"
     ]
    }
   ],
   "source": [
    "print(classification_report(y_test,y_pred))"
   ]
  },
  {
   "cell_type": "code",
   "execution_count": null,
   "id": "baebfb92",
   "metadata": {},
   "outputs": [],
   "source": []
  }
 ],
 "metadata": {
  "kernelspec": {
   "display_name": "Python 3 (ipykernel)",
   "language": "python",
   "name": "python3"
  },
  "language_info": {
   "codemirror_mode": {
    "name": "ipython",
    "version": 3
   },
   "file_extension": ".py",
   "mimetype": "text/x-python",
   "name": "python",
   "nbconvert_exporter": "python",
   "pygments_lexer": "ipython3",
   "version": "3.9.13"
  }
 },
 "nbformat": 4,
 "nbformat_minor": 5
}
